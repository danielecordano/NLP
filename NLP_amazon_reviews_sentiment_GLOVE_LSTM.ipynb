{
  "nbformat": 4,
  "nbformat_minor": 0,
  "metadata": {
    "accelerator": "GPU",
    "colab": {
      "name": "NLP amazon reviews sentiment GLOVE LSTM.ipynb",
      "provenance": [],
      "collapsed_sections": [],
      "toc_visible": true,
      "include_colab_link": true
    },
    "kernelspec": {
      "display_name": "Python 3",
      "name": "python3"
    }
  },
  "cells": [
    {
      "cell_type": "markdown",
      "metadata": {
        "id": "view-in-github",
        "colab_type": "text"
      },
      "source": [
        "<a href=\"https://colab.research.google.com/github/danielecordano/NLP/blob/master/NLP_amazon_reviews_sentiment_GLOVE_LSTM.ipynb\" target=\"_parent\"><img src=\"https://colab.research.google.com/assets/colab-badge.svg\" alt=\"Open In Colab\"/></a>"
      ]
    },
    {
      "cell_type": "code",
      "metadata": {
        "colab_type": "code",
        "id": "JdZNYRDkT2n7",
        "colab": {
          "base_uri": "https://localhost:8080/",
          "height": 471
        },
        "outputId": "b22cee06-1f55-4d49-bf3e-8238df5161f2"
      },
      "source": [
        "import json\n",
        "import tensorflow as tf\n",
        "import numpy as np\n",
        "\n",
        "from tensorflow.keras.preprocessing.text import Tokenizer\n",
        "from tensorflow.keras.preprocessing.sequence import pad_sequences\n",
        "\n",
        "print(tf.__version__)\n",
        "\n",
        "!wget --no-check-certificate \\\n",
        "    https://raw.githubusercontent.com/KeithGalli/sklearn/master/data/sentiment/Books_small_10000.json \\\n",
        "    -O /tmp/reviews.json\n",
        "\n",
        "embedding_dim = 100\n",
        "max_length = 120\n",
        "trunc_type='post'\n",
        "padding_type='post'\n",
        "oov_tok = \"<OOV>\"\n",
        "training_portion = .9\n",
        "\n",
        "\n",
        "with open(\"/tmp/reviews.json\", 'r') as f:\n",
        "  sentences = []\n",
        "  labels = []\n",
        "  for line in f:\n",
        "    item = json.loads(line)\n",
        "    sentences.append(item['reviewText'])\n",
        "    labels.append(int(item['overall'] >= 2.5))\n",
        "\n",
        "print(len(sentences))\n",
        "training_size = int(training_portion * len(sentences))\n",
        "training_sentences = sentences[0:training_size]\n",
        "testing_sentences = sentences[training_size:]\n",
        "training_labels = labels[0:training_size]\n",
        "testing_labels = labels[training_size:]\n",
        "\n",
        "tokenizer = Tokenizer(oov_token=oov_tok)\n",
        "tokenizer.fit_on_texts(training_sentences)\n",
        "\n",
        "word_index = tokenizer.word_index\n",
        "vocab_size=len(word_index)\n",
        "print(vocab_size)\n",
        "\n",
        "training_sequences = tokenizer.texts_to_sequences(training_sentences)\n",
        "training_padded = pad_sequences(training_sequences, maxlen=max_length, padding=padding_type, truncating=trunc_type)\n",
        "\n",
        "testing_sequences = tokenizer.texts_to_sequences(testing_sentences)\n",
        "testing_padded = pad_sequences(testing_sequences, maxlen=max_length, padding=padding_type, truncating=trunc_type)\n",
        "\n",
        "# Note this is the 100 dimension version of GloVe from Stanford\n",
        "# I unzipped and hosted it on my site to make this notebook easier\n",
        "!wget --no-check-certificate \\\n",
        "    https://storage.googleapis.com/laurencemoroney-blog.appspot.com/glove.6B.100d.txt \\\n",
        "    -O /tmp/glove.6B.100d.txt\n",
        "embeddings_index = {};\n",
        "with open('/tmp/glove.6B.100d.txt') as f:\n",
        "    for line in f:\n",
        "        values = line.split();\n",
        "        word = values[0];\n",
        "        coefs = np.asarray(values[1:], dtype='float32');\n",
        "        embeddings_index[word] = coefs;\n",
        "\n",
        "embeddings_matrix = np.zeros((vocab_size+1, embedding_dim));\n",
        "for word, i in word_index.items():\n",
        "    embedding_vector = embeddings_index.get(word);\n",
        "    if embedding_vector is not None:\n",
        "        embeddings_matrix[i] = embedding_vector;\n",
        "\n"
      ],
      "execution_count": 28,
      "outputs": [
        {
          "output_type": "stream",
          "text": [
            "2.2.0-rc2\n",
            "--2020-04-03 12:51:28--  https://raw.githubusercontent.com/KeithGalli/sklearn/master/data/sentiment/Books_small_10000.json\n",
            "Resolving raw.githubusercontent.com (raw.githubusercontent.com)... 151.101.0.133, 151.101.64.133, 151.101.128.133, ...\n",
            "Connecting to raw.githubusercontent.com (raw.githubusercontent.com)|151.101.0.133|:443... connected.\n",
            "HTTP request sent, awaiting response... 200 OK\n",
            "Length: 8063542 (7.7M) [text/plain]\n",
            "Saving to: ‘/tmp/reviews.json’\n",
            "\n",
            "/tmp/reviews.json   100%[===================>]   7.69M  8.71MB/s    in 0.9s    \n",
            "\n",
            "2020-04-03 12:51:30 (8.71 MB/s) - ‘/tmp/reviews.json’ saved [8063542/8063542]\n",
            "\n",
            "10000\n",
            "32581\n",
            "--2020-04-03 12:51:34--  https://storage.googleapis.com/laurencemoroney-blog.appspot.com/glove.6B.100d.txt\n",
            "Resolving storage.googleapis.com (storage.googleapis.com)... 108.177.125.128, 2404:6800:4008:c03::80\n",
            "Connecting to storage.googleapis.com (storage.googleapis.com)|108.177.125.128|:443... connected.\n",
            "HTTP request sent, awaiting response... 200 OK\n",
            "Length: 347116733 (331M) [text/plain]\n",
            "Saving to: ‘/tmp/glove.6B.100d.txt’\n",
            "\n",
            "/tmp/glove.6B.100d. 100%[===================>] 331.04M   116MB/s    in 2.8s    \n",
            "\n",
            "2020-04-03 12:51:37 (116 MB/s) - ‘/tmp/glove.6B.100d.txt’ saved [347116733/347116733]\n",
            "\n"
          ],
          "name": "stdout"
        }
      ]
    },
    {
      "cell_type": "code",
      "metadata": {
        "id": "naym6L4y6iih",
        "colab_type": "code",
        "colab": {
          "base_uri": "https://localhost:8080/",
          "height": 399
        },
        "outputId": "ab0b83cf-855d-48d7-dce8-b5feb2767735"
      },
      "source": [
        "model = tf.keras.Sequential([\n",
        "    tf.keras.layers.Embedding(vocab_size+1, embedding_dim, input_length=max_length, weights=[embeddings_matrix], trainable=False),\n",
        "    tf.keras.layers.Dropout(0.4),\n",
        "    tf.keras.layers.Conv1D(64, 5, activation='relu'),\n",
        "    tf.keras.layers.MaxPooling1D(pool_size=4),\n",
        "    tf.keras.layers.Bidirectional(tf.keras.layers.LSTM(32)),\n",
        "    tf.keras.layers.Dense(64, activation='relu'),\n",
        "    tf.keras.layers.Dense(1, activation='sigmoid')\n",
        "])\n",
        "model.compile(loss='binary_crossentropy',optimizer='adam',metrics=['accuracy'])\n",
        "model.summary()\n"
      ],
      "execution_count": 29,
      "outputs": [
        {
          "output_type": "stream",
          "text": [
            "Model: \"sequential_4\"\n",
            "_________________________________________________________________\n",
            "Layer (type)                 Output Shape              Param #   \n",
            "=================================================================\n",
            "embedding_4 (Embedding)      (None, 120, 100)          3258200   \n",
            "_________________________________________________________________\n",
            "dropout_4 (Dropout)          (None, 120, 100)          0         \n",
            "_________________________________________________________________\n",
            "conv1d_2 (Conv1D)            (None, 116, 64)           32064     \n",
            "_________________________________________________________________\n",
            "max_pooling1d_2 (MaxPooling1 (None, 29, 64)            0         \n",
            "_________________________________________________________________\n",
            "bidirectional_4 (Bidirection (None, 64)                24832     \n",
            "_________________________________________________________________\n",
            "dense_8 (Dense)              (None, 64)                4160      \n",
            "_________________________________________________________________\n",
            "dense_9 (Dense)              (None, 1)                 65        \n",
            "=================================================================\n",
            "Total params: 3,319,321\n",
            "Trainable params: 61,121\n",
            "Non-trainable params: 3,258,200\n",
            "_________________________________________________________________\n"
          ],
          "name": "stdout"
        }
      ]
    },
    {
      "cell_type": "code",
      "metadata": {
        "id": "nHPsu71tbVnc",
        "colab_type": "code",
        "colab": {
          "base_uri": "https://localhost:8080/",
          "height": 904
        },
        "outputId": "6fe5719c-2494-43ec-f74c-20f77d78fde9"
      },
      "source": [
        "num_epochs = 25\n",
        "training_padded = np.array(training_padded)\n",
        "training_labels = np.array(training_labels)\n",
        "testing_padded = np.array(testing_padded)\n",
        "testing_labels = np.array(testing_labels)\n",
        "history = model.fit(training_padded, training_labels, epochs=num_epochs, validation_data=(testing_padded, testing_labels), verbose=1)\n"
      ],
      "execution_count": 30,
      "outputs": [
        {
          "output_type": "stream",
          "text": [
            "Epoch 1/25\n",
            "282/282 [==============================] - 4s 12ms/step - loss: 0.2496 - accuracy: 0.9321 - val_loss: 0.2295 - val_accuracy: 0.9420\n",
            "Epoch 2/25\n",
            "282/282 [==============================] - 3s 10ms/step - loss: 0.2303 - accuracy: 0.9349 - val_loss: 0.2279 - val_accuracy: 0.9420\n",
            "Epoch 3/25\n",
            "282/282 [==============================] - 3s 10ms/step - loss: 0.2172 - accuracy: 0.9349 - val_loss: 0.2112 - val_accuracy: 0.9420\n",
            "Epoch 4/25\n",
            "282/282 [==============================] - 3s 10ms/step - loss: 0.2027 - accuracy: 0.9349 - val_loss: 0.2126 - val_accuracy: 0.9420\n",
            "Epoch 5/25\n",
            "282/282 [==============================] - 3s 10ms/step - loss: 0.1883 - accuracy: 0.9359 - val_loss: 0.2101 - val_accuracy: 0.9420\n",
            "Epoch 6/25\n",
            "282/282 [==============================] - 3s 10ms/step - loss: 0.1803 - accuracy: 0.9347 - val_loss: 0.2328 - val_accuracy: 0.9420\n",
            "Epoch 7/25\n",
            "282/282 [==============================] - 3s 11ms/step - loss: 0.1662 - accuracy: 0.9373 - val_loss: 0.2025 - val_accuracy: 0.9420\n",
            "Epoch 8/25\n",
            "282/282 [==============================] - 3s 10ms/step - loss: 0.1559 - accuracy: 0.9404 - val_loss: 0.2235 - val_accuracy: 0.9400\n",
            "Epoch 9/25\n",
            "282/282 [==============================] - 3s 9ms/step - loss: 0.1498 - accuracy: 0.9426 - val_loss: 0.2182 - val_accuracy: 0.9400\n",
            "Epoch 10/25\n",
            "282/282 [==============================] - 3s 10ms/step - loss: 0.1344 - accuracy: 0.9480 - val_loss: 0.2891 - val_accuracy: 0.9420\n",
            "Epoch 11/25\n",
            "282/282 [==============================] - 3s 10ms/step - loss: 0.1310 - accuracy: 0.9498 - val_loss: 0.2185 - val_accuracy: 0.9270\n",
            "Epoch 12/25\n",
            "282/282 [==============================] - 3s 10ms/step - loss: 0.1202 - accuracy: 0.9531 - val_loss: 0.2240 - val_accuracy: 0.9350\n",
            "Epoch 13/25\n",
            "282/282 [==============================] - 3s 10ms/step - loss: 0.1071 - accuracy: 0.9563 - val_loss: 0.2354 - val_accuracy: 0.9370\n",
            "Epoch 14/25\n",
            "282/282 [==============================] - 3s 10ms/step - loss: 0.0978 - accuracy: 0.9597 - val_loss: 0.2260 - val_accuracy: 0.9230\n",
            "Epoch 15/25\n",
            "282/282 [==============================] - 3s 10ms/step - loss: 0.0995 - accuracy: 0.9609 - val_loss: 0.2318 - val_accuracy: 0.9240\n",
            "Epoch 16/25\n",
            "282/282 [==============================] - 3s 10ms/step - loss: 0.0888 - accuracy: 0.9654 - val_loss: 0.2433 - val_accuracy: 0.9350\n",
            "Epoch 17/25\n",
            "282/282 [==============================] - 3s 11ms/step - loss: 0.0812 - accuracy: 0.9681 - val_loss: 0.2930 - val_accuracy: 0.9410\n",
            "Epoch 18/25\n",
            "282/282 [==============================] - 3s 10ms/step - loss: 0.0893 - accuracy: 0.9660 - val_loss: 0.2437 - val_accuracy: 0.9400\n",
            "Epoch 19/25\n",
            "282/282 [==============================] - 3s 10ms/step - loss: 0.0750 - accuracy: 0.9707 - val_loss: 0.3034 - val_accuracy: 0.9350\n",
            "Epoch 20/25\n",
            "282/282 [==============================] - 3s 10ms/step - loss: 0.0698 - accuracy: 0.9732 - val_loss: 0.3975 - val_accuracy: 0.9410\n",
            "Epoch 21/25\n",
            "282/282 [==============================] - 3s 11ms/step - loss: 0.0690 - accuracy: 0.9724 - val_loss: 0.2820 - val_accuracy: 0.9330\n",
            "Epoch 22/25\n",
            "282/282 [==============================] - 3s 10ms/step - loss: 0.0622 - accuracy: 0.9740 - val_loss: 0.2893 - val_accuracy: 0.9270\n",
            "Epoch 23/25\n",
            "282/282 [==============================] - 3s 9ms/step - loss: 0.0674 - accuracy: 0.9749 - val_loss: 0.3123 - val_accuracy: 0.9340\n",
            "Epoch 24/25\n",
            "282/282 [==============================] - 3s 11ms/step - loss: 0.0580 - accuracy: 0.9770 - val_loss: 0.2935 - val_accuracy: 0.9100\n",
            "Epoch 25/25\n",
            "282/282 [==============================] - 3s 10ms/step - loss: 0.0578 - accuracy: 0.9762 - val_loss: 0.2961 - val_accuracy: 0.9170\n"
          ],
          "name": "stdout"
        }
      ]
    },
    {
      "cell_type": "code",
      "metadata": {
        "colab_type": "code",
        "id": "g9DC6dmLF8DC",
        "colab": {
          "base_uri": "https://localhost:8080/",
          "height": 544
        },
        "outputId": "74e90242-a03f-4c6e-b8b6-b8050706a454"
      },
      "source": [
        "import matplotlib.pyplot as plt\n",
        "\n",
        "\n",
        "def plot_graphs(history, string):\n",
        "  plt.plot(history.history[string])\n",
        "  plt.plot(history.history['val_'+string])\n",
        "  plt.xlabel(\"Epochs\")\n",
        "  plt.ylabel(string)\n",
        "  plt.legend([string, 'val_'+string])\n",
        "  plt.show()\n",
        "\n",
        "plot_graphs(history, 'accuracy')\n",
        "plot_graphs(history, 'loss')"
      ],
      "execution_count": 31,
      "outputs": [
        {
          "output_type": "display_data",
          "data": {
            "image/png": "[encoded data removed]",
            "text/plain": [
              "<Figure size 432x288 with 1 Axes>"
            ]
          },
          "metadata": {
            "tags": []
          }
        },
        {
          "output_type": "display_data",
          "data": {
            "image/png": "[encoded data removed]",
            "text/plain": [
              "<Figure size 432x288 with 1 Axes>"
            ]
          },
          "metadata": {
            "tags": []
          }
        }
      ]
    },
    {
      "cell_type": "code",
      "metadata": {
        "colab_type": "code",
        "id": "7ZEZIUppGhdi",
        "colab": {}
      },
      "source": [
        "model.save(\"amazon_reviews_sentiment.h5\")"
      ],
      "execution_count": 0,
      "outputs": []
    },
    {
      "cell_type": "code",
      "metadata": {
        "id": "NddLX5s8fGvj",
        "colab_type": "code",
        "colab": {
          "base_uri": "https://localhost:8080/",
          "height": 69
        },
        "outputId": "5af59249-6d08-4c34-e0a7-61d17e22dcdb"
      },
      "source": [
        "new_reviews = [\"This book was very easy to read. I really enjoyed it.\", \"This book is too trivial and boring\",\"I am sure this book is chalk full of good info! However it is certainly not a beginners book to investing. If you're like me and have no idea what the definition of terms like 'net tangible assets', and 'sub working capital' are it may be best to find a true beginners book as a prequel to this one. Lots of good info I cant yet understand.\"]\n",
        "new_reviews_numeric = tokenizer.texts_to_sequences(new_reviews)\n",
        "new_reviews_padded = pad_sequences(new_reviews_numeric, maxlen=max_length, padding=padding_type, truncating=trunc_type)\n",
        "predictions = model.predict(new_reviews_padded);\n",
        "print(predictions)"
      ],
      "execution_count": 33,
      "outputs": [
        {
          "output_type": "stream",
          "text": [
            "[[0.879855  ]\n",
            " [0.00928264]\n",
            " [0.9593261 ]]\n"
          ],
          "name": "stdout"
        }
      ]
    }
  ]
}