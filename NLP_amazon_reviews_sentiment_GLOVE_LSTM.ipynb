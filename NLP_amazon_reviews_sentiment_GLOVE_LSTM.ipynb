{
  "nbformat": 4,
  "nbformat_minor": 0,
  "metadata": {
    "accelerator": "GPU",
    "colab": {
      "name": "NLP amazon reviews sentiment GLOVE LSTM.ipynb",
      "provenance": [],
      "collapsed_sections": []
    },
    "kernelspec": {
      "display_name": "Python 3",
      "name": "python3"
    }
  },
  "cells": [
    {
      "cell_type": "markdown",
      "metadata": {
        "id": "x4QKrX_ndt8E",
        "colab_type": "text"
      },
      "source": [
        "This notebook generates a model for review sentiment.\n",
        "Let's mount Google Drive."
      ]
    },
    {
      "cell_type": "code",
      "metadata": {
        "id": "2cQj1nyn9WMV",
        "colab_type": "code",
        "outputId": "b538a535-a2c2-4728-ba2d-dbf419c3e525",
        "colab": {
          "base_uri": "https://localhost:8080/",
          "height": 124
        }
      },
      "source": [
        "from google.colab import drive\n",
        "drive.mount('/content/drive')"
      ],
      "execution_count": 1,
      "outputs": [
        {
          "output_type": "stream",
          "text": [
            "Go to this URL in a browser: https://accounts.google.com/o/oauth2/auth?client_id=947318989803-6bn6qk8qdgf4n4g3pfee6491hc0brc4i.apps.googleusercontent.com&redirect_uri=urn%3aietf%3awg%3aoauth%3a2.0%3aoob&response_type=code&scope=email%20https%3a%2f%2fwww.googleapis.com%2fauth%2fdocs.test%20https%3a%2f%2fwww.googleapis.com%2fauth%2fdrive%20https%3a%2f%2fwww.googleapis.com%2fauth%2fdrive.photos.readonly%20https%3a%2f%2fwww.googleapis.com%2fauth%2fpeopleapi.readonly\n",
            "\n",
            "Enter your authorization code:\n",
            "··········\n",
            "Mounted at /content/drive\n"
          ],
          "name": "stdout"
        }
      ]
    },
    {
      "cell_type": "markdown",
      "metadata": {
        "id": "ACSITtPFeRnC",
        "colab_type": "text"
      },
      "source": [
        "The following are commands to get the dataset. We do not need them, since we have already downloaded the dataset."
      ]
    },
    {
      "cell_type": "code",
      "metadata": {
        "id": "uG4cAPLLoJlD",
        "colab_type": "code",
        "colab": {}
      },
      "source": [
        "#!wget --no-check-certificate \\\n",
        "#    https://raw.githubusercontent.com/KeithGalli/sklearn/master/data/sentiment/Books_small_10000.json \\\n",
        "#    -O /tmp/reviews.json\n",
        "#!wget --no-check-certificate \\\n",
        "#    http://deepyeti.ucsd.edu/jianmo/amazon/categoryFilesSmall/Books_5.json.gz \\\n",
        "#    -O '/content/drive/My Drive/Colab Notebooks/reviews.json.gz'"
      ],
      "execution_count": 0,
      "outputs": []
    },
    {
      "cell_type": "markdown",
      "metadata": {
        "id": "QOsRmcbyeto0",
        "colab_type": "text"
      },
      "source": [
        "Let's decompress the dataset from Google Drive to the /tmp folder."
      ]
    },
    {
      "cell_type": "code",
      "metadata": {
        "id": "zv2uoz1ioPNO",
        "colab_type": "code",
        "colab": {}
      },
      "source": [
        "!gunzip -c '/content/drive/My Drive/Colab Notebooks/reviews.json.gz' > /tmp/reviews.json"
      ],
      "execution_count": 0,
      "outputs": []
    },
    {
      "cell_type": "markdown",
      "metadata": {
        "id": "mPd_nMbte67J",
        "colab_type": "text"
      },
      "source": [
        "Let's import some libraries and check the Tensorflow version."
      ]
    },
    {
      "cell_type": "code",
      "metadata": {
        "id": "nqAOoh6B8qqr",
        "colab_type": "code",
        "outputId": "11728246-b1e5-4608-8583-64ace331252e",
        "colab": {
          "base_uri": "https://localhost:8080/",
          "height": 35
        }
      },
      "source": [
        "import json\n",
        "import tensorflow as tf\n",
        "import numpy as np\n",
        "\n",
        "print(tf.__version__)"
      ],
      "execution_count": 4,
      "outputs": [
        {
          "output_type": "stream",
          "text": [
            "2.2.0\n"
          ],
          "name": "stdout"
        }
      ]
    },
    {
      "cell_type": "markdown",
      "metadata": {
        "id": "hZPZrDtXgMg3",
        "colab_type": "text"
      },
      "source": [
        "Let's read the file and split the data into training and testing examples. We convert words to numbers by using the tokenizer. Finally we pad our sequences to make them of the same length."
      ]
    },
    {
      "cell_type": "code",
      "metadata": {
        "colab_type": "code",
        "id": "JdZNYRDkT2n7",
        "outputId": "b7351b70-f94a-4f56-9a33-acc2210c2af8",
        "colab": {
          "base_uri": "https://localhost:8080/",
          "height": 87
        }
      },
      "source": [
        "!cp '/content/drive/My Drive/Colab Notebooks/preprocess.py' .\n",
        "from preprocess import Sentences2Sequences\n",
        "\n",
        "reviews_num = 300000\n",
        "embedding_dim = 100\n",
        "training_portion = .9\n",
        "\n",
        "with open(\"/tmp/reviews.json\", 'r') as f:\n",
        "  sentences = []\n",
        "  labels = []\n",
        "  neg = 0\n",
        "  pos = 0\n",
        "  for line in f:\n",
        "    item = json.loads(line)\n",
        "    valid = ('reviewText' in item) and ('overall' in item)\n",
        "    if valid:\n",
        "      sentence = item['reviewText']\n",
        "      sentences.append(sentence)\n",
        "      is_positive = item['overall'] > 2.5\n",
        "      if is_positive:\n",
        "        pos += 1\n",
        "      else:\n",
        "        neg += 1\n",
        "      labels.append(int(is_positive))\n",
        "    if len(sentences) == reviews_num:\n",
        "      break\n",
        "\n",
        "print('Number of reviews: ', len(sentences))\n",
        "print('Number of negative reviews: ', neg)\n",
        "print('Number of positive reviews: ', pos)\n",
        "tot = neg + pos\n",
        "\n",
        "training_size = int(training_portion * len(sentences))\n",
        "training_sentences = sentences[0:training_size]\n",
        "testing_sentences = sentences[training_size:]\n",
        "training_labels = labels[0:training_size]\n",
        "testing_labels = labels[training_size:]\n",
        "\n",
        "preprocessor = Sentences2Sequences()\n",
        "training_padded = preprocessor.preprocess(training_sentences)\n",
        "vocab_size = len(preprocessor._tokenizer.word_index)\n",
        "print(\"Vocabulary size: \",vocab_size)\n",
        "testing_padded = preprocessor.preprocess(testing_sentences)"
      ],
      "execution_count": 8,
      "outputs": [
        {
          "output_type": "stream",
          "text": [
            "Number of reviews:  300000\n",
            "Number of negative reviews:  23436\n",
            "Number of positive reviews:  276564\n",
            "Vocabulary size:  154172\n"
          ],
          "name": "stdout"
        }
      ]
    },
    {
      "cell_type": "markdown",
      "metadata": {
        "id": "Mlu4l-qihDpc",
        "colab_type": "text"
      },
      "source": [
        "We will use the 100 dimension version of GLOVE as our first Embedding layer of our model."
      ]
    },
    {
      "cell_type": "code",
      "metadata": {
        "id": "5RLJp6y0fTj9",
        "colab_type": "code",
        "outputId": "789469ed-a4fa-4e4f-f50d-0402e87c3ee2",
        "colab": {
          "base_uri": "https://localhost:8080/",
          "height": 228
        }
      },
      "source": [
        "# Note this is the 100 dimension version of GloVe from Stanford\n",
        "# Laurence Moroney unzipped and hosted it on his site to make the notebook easier\n",
        "!wget --no-check-certificate \\\n",
        "    https://storage.googleapis.com/laurencemoroney-blog.appspot.com/glove.6B.100d.txt \\\n",
        "    -O /tmp/glove.6B.100d.txt\n",
        "embeddings_index = {};\n",
        "with open('/tmp/glove.6B.100d.txt') as f:\n",
        "    for line in f:\n",
        "        values = line.split();\n",
        "        word = values[0];\n",
        "        coefs = np.asarray(values[1:], dtype='float32');\n",
        "        embeddings_index[word] = coefs;\n",
        "\n",
        "embeddings_matrix = np.zeros((vocab_size+1, embedding_dim));\n",
        "for word, i in preprocessor._tokenizer.word_index.items():\n",
        "    embedding_vector = embeddings_index.get(word);\n",
        "    if embedding_vector is not None:\n",
        "        embeddings_matrix[i] = embedding_vector;"
      ],
      "execution_count": 10,
      "outputs": [
        {
          "output_type": "stream",
          "text": [
            "--2020-05-18 14:22:54--  https://storage.googleapis.com/laurencemoroney-blog.appspot.com/glove.6B.100d.txt\n",
            "Resolving storage.googleapis.com (storage.googleapis.com)... 74.125.20.128, 2607:f8b0:400e:c04::80\n",
            "Connecting to storage.googleapis.com (storage.googleapis.com)|74.125.20.128|:443... connected.\n",
            "HTTP request sent, awaiting response... 200 OK\n",
            "Length: 347116733 (331M) [text/plain]\n",
            "Saving to: ‘/tmp/glove.6B.100d.txt’\n",
            "\n",
            "/tmp/glove.6B.100d. 100%[===================>] 331.04M   140MB/s    in 2.4s    \n",
            "\n",
            "2020-05-18 14:22:57 (140 MB/s) - ‘/tmp/glove.6B.100d.txt’ saved [347116733/347116733]\n",
            "\n"
          ],
          "name": "stdout"
        }
      ]
    },
    {
      "cell_type": "markdown",
      "metadata": {
        "id": "dOPR78mJhknN",
        "colab_type": "text"
      },
      "source": [
        "Our dataset is imbalanced, since we have only a few negative reviews. We will take this into account by 'paying more attention' to negative reviews."
      ]
    },
    {
      "cell_type": "code",
      "metadata": {
        "id": "-YK3Fx0yok74",
        "colab_type": "code",
        "outputId": "5dfcf01f-c219-43c4-c9ad-ff01b4b0ca1d",
        "colab": {
          "base_uri": "https://localhost:8080/",
          "height": 52
        }
      },
      "source": [
        "weight_for_0 = tot/neg/2.0 \n",
        "weight_for_1 = tot/pos/2.0\n",
        "\n",
        "class_weight = {0: weight_for_0, 1: weight_for_1}\n",
        "\n",
        "print('Weight for class 0: {:.2f}'.format(weight_for_0))\n",
        "print('Weight for class 1: {:.2f}'.format(weight_for_1))"
      ],
      "execution_count": 11,
      "outputs": [
        {
          "output_type": "stream",
          "text": [
            "Weight for class 0: 6.40\n",
            "Weight for class 1: 0.54\n"
          ],
          "name": "stdout"
        }
      ]
    },
    {
      "cell_type": "markdown",
      "metadata": {
        "id": "vyT4GtaAiELW",
        "colab_type": "text"
      },
      "source": [
        "Let's compile the model and get its summary."
      ]
    },
    {
      "cell_type": "code",
      "metadata": {
        "id": "naym6L4y6iih",
        "colab_type": "code",
        "outputId": "33faba87-3c6f-4d1a-8d89-bcb6ec31068c",
        "colab": {
          "base_uri": "https://localhost:8080/",
          "height": 329
        }
      },
      "source": [
        "tf.keras.backend.clear_session()\n",
        "model = tf.keras.Sequential([\n",
        "    tf.keras.layers.Embedding(\n",
        "      vocab_size + 1,\n",
        "      embedding_dim,\n",
        "      input_length = preprocessor._max_length,\n",
        "      weights=[embeddings_matrix],\n",
        "      trainable=False),\n",
        "    tf.keras.layers.Dropout(0.4),\n",
        "    tf.keras.layers.Bidirectional(tf.keras.layers.LSTM(32)),\n",
        "    tf.keras.layers.Dense(32, activation='relu'),\n",
        "    tf.keras.layers.Dense(1, activation='sigmoid')\n",
        "])\n",
        "model.compile(loss='binary_crossentropy',optimizer='adam',metrics=['accuracy'])\n",
        "model.summary()\n"
      ],
      "execution_count": 14,
      "outputs": [
        {
          "output_type": "stream",
          "text": [
            "Model: \"sequential\"\n",
            "_________________________________________________________________\n",
            "Layer (type)                 Output Shape              Param #   \n",
            "=================================================================\n",
            "embedding (Embedding)        (None, 120, 100)          15417300  \n",
            "_________________________________________________________________\n",
            "dropout (Dropout)            (None, 120, 100)          0         \n",
            "_________________________________________________________________\n",
            "bidirectional (Bidirectional (None, 64)                34048     \n",
            "_________________________________________________________________\n",
            "dense (Dense)                (None, 32)                2080      \n",
            "_________________________________________________________________\n",
            "dense_1 (Dense)              (None, 1)                 33        \n",
            "=================================================================\n",
            "Total params: 15,453,461\n",
            "Trainable params: 36,161\n",
            "Non-trainable params: 15,417,300\n",
            "_________________________________________________________________\n"
          ],
          "name": "stdout"
        }
      ]
    },
    {
      "cell_type": "markdown",
      "metadata": {
        "id": "cYYkNWbqiMdM",
        "colab_type": "text"
      },
      "source": [
        "Let's train our model."
      ]
    },
    {
      "cell_type": "code",
      "metadata": {
        "id": "nHPsu71tbVnc",
        "colab_type": "code",
        "outputId": "0b7c0697-c75e-4bdc-e30c-fe2e018ff808",
        "colab": {
          "base_uri": "https://localhost:8080/",
          "height": 384
        }
      },
      "source": [
        "num_epochs = 10\n",
        "training_padded = np.array(training_padded)\n",
        "training_labels = np.array(training_labels)\n",
        "testing_padded = np.array(testing_padded)\n",
        "testing_labels = np.array(testing_labels)\n",
        "history = model.fit(\n",
        "  training_padded,\n",
        "  training_labels,\n",
        "  epochs=num_epochs,\n",
        "  validation_data=(testing_padded, testing_labels),\n",
        "  class_weight = class_weight,\n",
        "  verbose=1)\n"
      ],
      "execution_count": 15,
      "outputs": [
        {
          "output_type": "stream",
          "text": [
            "Epoch 1/10\n",
            "8438/8438 [==============================] - 102s 12ms/step - loss: 0.4849 - accuracy: 0.7414 - val_loss: 0.3681 - val_accuracy: 0.8334\n",
            "Epoch 2/10\n",
            "8438/8438 [==============================] - 102s 12ms/step - loss: 0.4149 - accuracy: 0.7922 - val_loss: 0.3585 - val_accuracy: 0.8360\n",
            "Epoch 3/10\n",
            "8438/8438 [==============================] - 103s 12ms/step - loss: 0.3941 - accuracy: 0.8036 - val_loss: 0.3786 - val_accuracy: 0.8238\n",
            "Epoch 4/10\n",
            "8438/8438 [==============================] - 102s 12ms/step - loss: 0.3820 - accuracy: 0.8113 - val_loss: 0.4395 - val_accuracy: 0.7927\n",
            "Epoch 5/10\n",
            "8438/8438 [==============================] - 100s 12ms/step - loss: 0.3719 - accuracy: 0.8185 - val_loss: 0.3539 - val_accuracy: 0.8270\n",
            "Epoch 6/10\n",
            "8438/8438 [==============================] - 100s 12ms/step - loss: 0.3633 - accuracy: 0.8215 - val_loss: 0.2882 - val_accuracy: 0.8722\n",
            "Epoch 7/10\n",
            "8438/8438 [==============================] - 99s 12ms/step - loss: 0.3578 - accuracy: 0.8259 - val_loss: 0.3610 - val_accuracy: 0.8255\n",
            "Epoch 8/10\n",
            "8438/8438 [==============================] - 102s 12ms/step - loss: 0.3548 - accuracy: 0.8265 - val_loss: 0.2692 - val_accuracy: 0.8811\n",
            "Epoch 9/10\n",
            "8438/8438 [==============================] - 103s 12ms/step - loss: 0.3513 - accuracy: 0.8305 - val_loss: 0.2759 - val_accuracy: 0.8789\n",
            "Epoch 10/10\n",
            "8438/8438 [==============================] - 105s 12ms/step - loss: 0.3461 - accuracy: 0.8320 - val_loss: 0.3457 - val_accuracy: 0.8357\n"
          ],
          "name": "stdout"
        }
      ]
    },
    {
      "cell_type": "markdown",
      "metadata": {
        "id": "ID9U48-HicPk",
        "colab_type": "text"
      },
      "source": [
        "Let's inspect some training metrics."
      ]
    },
    {
      "cell_type": "code",
      "metadata": {
        "colab_type": "code",
        "id": "g9DC6dmLF8DC",
        "outputId": "92b2fba1-fa3d-4f45-8b40-9e8fce989d2e",
        "colab": {
          "base_uri": "https://localhost:8080/",
          "height": 541
        }
      },
      "source": [
        "import matplotlib.pyplot as plt\n",
        "\n",
        "\n",
        "def plot_graphs(history, string):\n",
        "  plt.plot(history.history[string])\n",
        "  plt.plot(history.history['val_'+string])\n",
        "  plt.xlabel(\"Epochs\")\n",
        "  plt.ylabel(string)\n",
        "  plt.legend([string, 'val_'+string])\n",
        "  plt.show()\n",
        "\n",
        "plot_graphs(history, 'accuracy')\n",
        "plot_graphs(history, 'loss')"
      ],
      "execution_count": 16,
      "outputs": [
        {
          "output_type": "display_data",
          "data": {
            "image/png": "[encoded data removed]",
            "text/plain": [
              "<Figure size 432x288 with 1 Axes>"
            ]
          },
          "metadata": {
            "tags": [],
            "needs_background": "light"
          }
        },
        {
          "output_type": "display_data",
          "data": {
            "image/png": "[encoded data removed]",
            "text/plain": [
              "<Figure size 432x288 with 1 Axes>"
            ]
          },
          "metadata": {
            "tags": [],
            "needs_background": "light"
          }
        }
      ]
    },
    {
      "cell_type": "markdown",
      "metadata": {
        "id": "-kTGNHqSilCa",
        "colab_type": "text"
      },
      "source": [
        "Now we can use our model to predict and see how it performs. Note that we need to preprocess our reviews the same way as we did with the training examples."
      ]
    },
    {
      "cell_type": "code",
      "metadata": {
        "id": "NddLX5s8fGvj",
        "colab_type": "code",
        "outputId": "f8314018-5516-4c1d-d056-31b32dd577f2",
        "colab": {
          "base_uri": "https://localhost:8080/",
          "height": 87
        }
      },
      "source": [
        "new_reviews = [\"This book was very easy to read. I really enjoyed it.\", \"I would not recommend this book to anyone\", \"This book is not interesting\",\"I am sure this book is chalk full of good info! However it is certainly not a beginners book to investing. If you're like me and have no idea what the definition of terms like 'net tangible assets', and 'sub working capital' are it may be best to find a true beginners book as a prequel to this one. Lots of good info I cant yet understand.\"]\n",
        "new_reviews_padded = preprocessor.preprocess(new_reviews)\n",
        "predictions = model.predict(new_reviews_padded)\n",
        "print(predictions)"
      ],
      "execution_count": 17,
      "outputs": [
        {
          "output_type": "stream",
          "text": [
            "[[0.99412656]\n",
            " [0.04156011]\n",
            " [0.04869186]\n",
            " [0.04009876]]\n"
          ],
          "name": "stdout"
        }
      ]
    },
    {
      "cell_type": "markdown",
      "metadata": {
        "id": "ODO37SF5j0DM",
        "colab_type": "text"
      },
      "source": [
        "Let's have the model's predictions on the testing samples and plot the ROC curve. We find the optimal output threshold, which maximizes the Youden's J statistic."
      ]
    },
    {
      "cell_type": "code",
      "metadata": {
        "id": "bfJWQiaB0T7S",
        "colab_type": "code",
        "colab": {}
      },
      "source": [
        "predictions = model.predict(testing_padded)"
      ],
      "execution_count": 0,
      "outputs": []
    },
    {
      "cell_type": "code",
      "metadata": {
        "id": "qNSv1Ey00OYB",
        "colab_type": "code",
        "outputId": "f5288a66-7a2d-41f7-cd8a-a1da00d650ff",
        "colab": {
          "base_uri": "https://localhost:8080/",
          "height": 351
        }
      },
      "source": [
        "import sklearn.metrics\n",
        "\n",
        "def plot_roc(name, labels, predictions, **kwargs):\n",
        "  fpr, tpr, thresholds = sklearn.metrics.roc_curve(labels, predictions)\n",
        "  plt.plot(fpr, tpr, label=name, linewidth=2, **kwargs)\n",
        "  plt.xlabel('False positives rate')\n",
        "  plt.ylabel('True positives rate')\n",
        "  plt.grid(True)\n",
        "  # Youden's J statistic\n",
        "  J = tpr - fpr\n",
        "  ix = np.argmax(J)\n",
        "  best_threshold = thresholds[ix]\n",
        "  plt.plot([0,1], [0,1], linestyle='--', color='k', label='No Skill')\n",
        "  plt.scatter(fpr[ix], tpr[ix], marker='o', color='r', label='Best')\n",
        "  ax = plt.gca()\n",
        "  ax.set_aspect('equal')\n",
        "  return best_threshold\n",
        "\n",
        "plt.figure(figsize=(5,5))\n",
        "best_threshold = plot_roc(\n",
        "  \"LSTM bidirectional\",\n",
        "  testing_labels,\n",
        "  predictions,\n",
        "  color='b')\n",
        "print(best_threshold)"
      ],
      "execution_count": 19,
      "outputs": [
        {
          "output_type": "stream",
          "text": [
            "0.44388688\n"
          ],
          "name": "stdout"
        },
        {
          "output_type": "display_data",
          "data": {
            "image/png": "[encoded data removed]",
            "text/plain": [
              "<Figure size 360x360 with 1 Axes>"
            ]
          },
          "metadata": {
            "tags": [],
            "needs_background": "light"
          }
        }
      ]
    },
    {
      "cell_type": "markdown",
      "metadata": {
        "id": "sBfrNXirjHrO",
        "colab_type": "text"
      },
      "source": [
        "Let's save the preprocessor and the model."
      ]
    },
    {
      "cell_type": "code",
      "metadata": {
        "id": "geqFbQqunu4h",
        "colab_type": "code",
        "colab": {}
      },
      "source": [
        "import pickle\n",
        "with open('/content/drive/My Drive/Colab Notebooks/preprocessor.pkl', 'wb') as handle:\n",
        "    pickle.dump(preprocessor, handle, protocol=pickle.HIGHEST_PROTOCOL)\n",
        "with open( 'word_index.json' , 'w' ) as file:    \n",
        "    json.dump( preprocessor._tokenizer.word_index , file)\n",
        "model.save('/content/drive/My Drive/Colab Notebooks/amazon_reviews_sentiment.h5')"
      ],
      "execution_count": 0,
      "outputs": []
    },
    {
      "cell_type": "markdown",
      "metadata": {
        "id": "dpfiwLr-jSTl",
        "colab_type": "text"
      },
      "source": [
        "Let's install Tensorflow.js."
      ]
    },
    {
      "cell_type": "code",
      "metadata": {
        "id": "CNvEiOfGrRp7",
        "colab_type": "code",
        "outputId": "6c81d177-5eba-435e-84f6-16ca07125137",
        "colab": {
          "base_uri": "https://localhost:8080/",
          "height": 1000
        }
      },
      "source": [
        "!pip install tensorflowjs"
      ],
      "execution_count": 21,
      "outputs": [
        {
          "output_type": "stream",
          "text": [
            "Collecting tensorflowjs\n",
            "\u001b[?25l  Downloading https://files.pythonhosted.org/packages/dd/39/23596fd498a0ba796bbe19058a545f24179e23077a0ea948d8822a78eb93/tensorflowjs-1.7.4.post1-py3-none-any.whl (57kB)\n",
            "\u001b[K     |████████████████████████████████| 61kB 3.0MB/s \n",
            "\u001b[?25hCollecting tensorflow-cpu>=2.1.0<3\n",
            "\u001b[?25l  Downloading https://files.pythonhosted.org/packages/e7/4f/7bf91c87907873177ad99a31014fb77271a693a3a7cb75e522ac6b556416/tensorflow_cpu-2.2.0-cp36-cp36m-manylinux2010_x86_64.whl (144.4MB)\n",
            "\u001b[K     |████████████████████████████████| 144.4MB 101kB/s \n",
            "\u001b[?25hRequirement already satisfied: six>=1.12.0 in /usr/local/lib/python3.6/dist-packages (from tensorflowjs) (1.12.0)\n",
            "Collecting PyInquirer==1.0.3\n",
            "  Downloading https://files.pythonhosted.org/packages/fb/4c/434b7c454010a284b49d6f1d446fe8dc5960415613d8c0225b9e2efb6724/PyInquirer-1.0.3.tar.gz\n",
            "Requirement already satisfied: numpy>=1.16.4 in /usr/local/lib/python3.6/dist-packages (from tensorflowjs) (1.18.4)\n",
            "Requirement already satisfied: h5py>=2.8.0 in /usr/local/lib/python3.6/dist-packages (from tensorflowjs) (2.10.0)\n",
            "Collecting tensorflow-hub==0.7.0\n",
            "\u001b[?25l  Downloading https://files.pythonhosted.org/packages/00/0e/a91780d07592b1abf9c91344ce459472cc19db3b67fdf3a61dca6ebb2f5c/tensorflow_hub-0.7.0-py2.py3-none-any.whl (89kB)\n",
            "\u001b[K     |████████████████████████████████| 92kB 13.3MB/s \n",
            "\u001b[?25hRequirement already satisfied: tensorboard<2.3.0,>=2.2.0 in /usr/local/lib/python3.6/dist-packages (from tensorflow-cpu>=2.1.0<3->tensorflowjs) (2.2.1)\n",
            "Requirement already satisfied: wrapt>=1.11.1 in /usr/local/lib/python3.6/dist-packages (from tensorflow-cpu>=2.1.0<3->tensorflowjs) (1.12.1)\n",
            "Requirement already satisfied: tensorflow-estimator<2.3.0,>=2.2.0 in /usr/local/lib/python3.6/dist-packages (from tensorflow-cpu>=2.1.0<3->tensorflowjs) (2.2.0)\n",
            "Requirement already satisfied: opt-einsum>=2.3.2 in /usr/local/lib/python3.6/dist-packages (from tensorflow-cpu>=2.1.0<3->tensorflowjs) (3.2.1)\n",
            "Requirement already satisfied: absl-py>=0.7.0 in /usr/local/lib/python3.6/dist-packages (from tensorflow-cpu>=2.1.0<3->tensorflowjs) (0.9.0)\n",
            "Requirement already satisfied: astunparse==1.6.3 in /usr/local/lib/python3.6/dist-packages (from tensorflow-cpu>=2.1.0<3->tensorflowjs) (1.6.3)\n",
            "Requirement already satisfied: gast==0.3.3 in /usr/local/lib/python3.6/dist-packages (from tensorflow-cpu>=2.1.0<3->tensorflowjs) (0.3.3)\n",
            "Requirement already satisfied: wheel>=0.26; python_version >= \"3\" in /usr/local/lib/python3.6/dist-packages (from tensorflow-cpu>=2.1.0<3->tensorflowjs) (0.34.2)\n",
            "Requirement already satisfied: protobuf>=3.8.0 in /usr/local/lib/python3.6/dist-packages (from tensorflow-cpu>=2.1.0<3->tensorflowjs) (3.10.0)\n",
            "Requirement already satisfied: scipy==1.4.1; python_version >= \"3\" in /usr/local/lib/python3.6/dist-packages (from tensorflow-cpu>=2.1.0<3->tensorflowjs) (1.4.1)\n",
            "Requirement already satisfied: termcolor>=1.1.0 in /usr/local/lib/python3.6/dist-packages (from tensorflow-cpu>=2.1.0<3->tensorflowjs) (1.1.0)\n",
            "Requirement already satisfied: grpcio>=1.8.6 in /usr/local/lib/python3.6/dist-packages (from tensorflow-cpu>=2.1.0<3->tensorflowjs) (1.28.1)\n",
            "Requirement already satisfied: google-pasta>=0.1.8 in /usr/local/lib/python3.6/dist-packages (from tensorflow-cpu>=2.1.0<3->tensorflowjs) (0.2.0)\n",
            "Requirement already satisfied: keras-preprocessing>=1.1.0 in /usr/local/lib/python3.6/dist-packages (from tensorflow-cpu>=2.1.0<3->tensorflowjs) (1.1.0)\n",
            "Collecting prompt_toolkit==1.0.14\n",
            "\u001b[?25l  Downloading https://files.pythonhosted.org/packages/ee/3d/b25d35a9f0d381dd1c02d8e04b37c353caaaff4bc32150328eeebe4931f5/prompt_toolkit-1.0.14-py3-none-any.whl (248kB)\n",
            "\u001b[K     |████████████████████████████████| 256kB 58.0MB/s \n",
            "\u001b[?25hCollecting Pygments>=2.2.0\n",
            "\u001b[?25l  Downloading https://files.pythonhosted.org/packages/2d/68/106af3ae51daf807e9cdcba6a90e518954eb8b70341cee52995540a53ead/Pygments-2.6.1-py3-none-any.whl (914kB)\n",
            "\u001b[K     |████████████████████████████████| 921kB 49.8MB/s \n",
            "\u001b[?25hRequirement already satisfied: regex>=2016.11.21 in /usr/local/lib/python3.6/dist-packages (from PyInquirer==1.0.3->tensorflowjs) (2019.12.20)\n",
            "Requirement already satisfied: werkzeug>=0.11.15 in /usr/local/lib/python3.6/dist-packages (from tensorboard<2.3.0,>=2.2.0->tensorflow-cpu>=2.1.0<3->tensorflowjs) (1.0.1)\n",
            "Requirement already satisfied: google-auth-oauthlib<0.5,>=0.4.1 in /usr/local/lib/python3.6/dist-packages (from tensorboard<2.3.0,>=2.2.0->tensorflow-cpu>=2.1.0<3->tensorflowjs) (0.4.1)\n",
            "Requirement already satisfied: requests<3,>=2.21.0 in /usr/local/lib/python3.6/dist-packages (from tensorboard<2.3.0,>=2.2.0->tensorflow-cpu>=2.1.0<3->tensorflowjs) (2.23.0)\n",
            "Requirement already satisfied: tensorboard-plugin-wit>=1.6.0 in /usr/local/lib/python3.6/dist-packages (from tensorboard<2.3.0,>=2.2.0->tensorflow-cpu>=2.1.0<3->tensorflowjs) (1.6.0.post3)\n",
            "Requirement already satisfied: markdown>=2.6.8 in /usr/local/lib/python3.6/dist-packages (from tensorboard<2.3.0,>=2.2.0->tensorflow-cpu>=2.1.0<3->tensorflowjs) (3.2.1)\n",
            "Requirement already satisfied: google-auth<2,>=1.6.3 in /usr/local/lib/python3.6/dist-packages (from tensorboard<2.3.0,>=2.2.0->tensorflow-cpu>=2.1.0<3->tensorflowjs) (1.7.2)\n",
            "Requirement already satisfied: setuptools>=41.0.0 in /usr/local/lib/python3.6/dist-packages (from tensorboard<2.3.0,>=2.2.0->tensorflow-cpu>=2.1.0<3->tensorflowjs) (46.3.0)\n",
            "Requirement already satisfied: wcwidth in /usr/local/lib/python3.6/dist-packages (from prompt_toolkit==1.0.14->PyInquirer==1.0.3->tensorflowjs) (0.1.9)\n",
            "Requirement already satisfied: requests-oauthlib>=0.7.0 in /usr/local/lib/python3.6/dist-packages (from google-auth-oauthlib<0.5,>=0.4.1->tensorboard<2.3.0,>=2.2.0->tensorflow-cpu>=2.1.0<3->tensorflowjs) (1.3.0)\n",
            "Requirement already satisfied: idna<3,>=2.5 in /usr/local/lib/python3.6/dist-packages (from requests<3,>=2.21.0->tensorboard<2.3.0,>=2.2.0->tensorflow-cpu>=2.1.0<3->tensorflowjs) (2.9)\n",
            "Requirement already satisfied: certifi>=2017.4.17 in /usr/local/lib/python3.6/dist-packages (from requests<3,>=2.21.0->tensorboard<2.3.0,>=2.2.0->tensorflow-cpu>=2.1.0<3->tensorflowjs) (2020.4.5.1)\n",
            "Requirement already satisfied: chardet<4,>=3.0.2 in /usr/local/lib/python3.6/dist-packages (from requests<3,>=2.21.0->tensorboard<2.3.0,>=2.2.0->tensorflow-cpu>=2.1.0<3->tensorflowjs) (3.0.4)\n",
            "Requirement already satisfied: urllib3!=1.25.0,!=1.25.1,<1.26,>=1.21.1 in /usr/local/lib/python3.6/dist-packages (from requests<3,>=2.21.0->tensorboard<2.3.0,>=2.2.0->tensorflow-cpu>=2.1.0<3->tensorflowjs) (1.24.3)\n",
            "Requirement already satisfied: pyasn1-modules>=0.2.1 in /usr/local/lib/python3.6/dist-packages (from google-auth<2,>=1.6.3->tensorboard<2.3.0,>=2.2.0->tensorflow-cpu>=2.1.0<3->tensorflowjs) (0.2.8)\n",
            "Requirement already satisfied: cachetools<3.2,>=2.0.0 in /usr/local/lib/python3.6/dist-packages (from google-auth<2,>=1.6.3->tensorboard<2.3.0,>=2.2.0->tensorflow-cpu>=2.1.0<3->tensorflowjs) (3.1.1)\n",
            "Requirement already satisfied: rsa<4.1,>=3.1.4 in /usr/local/lib/python3.6/dist-packages (from google-auth<2,>=1.6.3->tensorboard<2.3.0,>=2.2.0->tensorflow-cpu>=2.1.0<3->tensorflowjs) (4.0)\n",
            "Requirement already satisfied: oauthlib>=3.0.0 in /usr/local/lib/python3.6/dist-packages (from requests-oauthlib>=0.7.0->google-auth-oauthlib<0.5,>=0.4.1->tensorboard<2.3.0,>=2.2.0->tensorflow-cpu>=2.1.0<3->tensorflowjs) (3.1.0)\n",
            "Requirement already satisfied: pyasn1<0.5.0,>=0.4.6 in /usr/local/lib/python3.6/dist-packages (from pyasn1-modules>=0.2.1->google-auth<2,>=1.6.3->tensorboard<2.3.0,>=2.2.0->tensorflow-cpu>=2.1.0<3->tensorflowjs) (0.4.8)\n",
            "Building wheels for collected packages: PyInquirer\n",
            "  Building wheel for PyInquirer (setup.py) ... \u001b[?25l\u001b[?25hdone\n",
            "  Created wheel for PyInquirer: filename=PyInquirer-1.0.3-cp36-none-any.whl size=32851 sha256=9d30c59f0b1bd8d4f527f6348220851264ec8dac89f5e87187dd7c9364789848\n",
            "  Stored in directory: /root/.cache/pip/wheels/52/6c/b1/3e4b0e8daf42a92883c7641c0ea8ffb62e0490ebed2faa55ad\n",
            "Successfully built PyInquirer\n",
            "\u001b[31mERROR: datascience 0.10.6 has requirement folium==0.2.1, but you'll have folium 0.8.3 which is incompatible.\u001b[0m\n",
            "Installing collected packages: tensorflow-cpu, prompt-toolkit, Pygments, PyInquirer, tensorflow-hub, tensorflowjs\n",
            "  Found existing installation: prompt-toolkit 1.0.18\n",
            "    Uninstalling prompt-toolkit-1.0.18:\n",
            "      Successfully uninstalled prompt-toolkit-1.0.18\n",
            "  Found existing installation: Pygments 2.1.3\n",
            "    Uninstalling Pygments-2.1.3:\n",
            "      Successfully uninstalled Pygments-2.1.3\n",
            "  Found existing installation: tensorflow-hub 0.8.0\n",
            "    Uninstalling tensorflow-hub-0.8.0:\n",
            "      Successfully uninstalled tensorflow-hub-0.8.0\n",
            "Successfully installed PyInquirer-1.0.3 Pygments-2.6.1 prompt-toolkit-1.0.14 tensorflow-cpu-2.2.0 tensorflow-hub-0.7.0 tensorflowjs-1.7.4.post1\n"
          ],
          "name": "stdout"
        },
        {
          "output_type": "display_data",
          "data": {
            "application/vnd.colab-display-data+json": {
              "pip_warning": {
                "packages": [
                  "prompt_toolkit",
                  "pygments",
                  "tensorflow"
                ]
              }
            }
          },
          "metadata": {
            "tags": []
          }
        }
      ]
    },
    {
      "cell_type": "markdown",
      "metadata": {
        "id": "u_hxwNBike99",
        "colab_type": "text"
      },
      "source": [
        "We use Tensorflow.js to convert our model to JSON format and zip it for download. This way our model can be loaded in a webpage using Javascript."
      ]
    },
    {
      "cell_type": "code",
      "metadata": {
        "id": "wTwuLZCpqovV",
        "colab_type": "code",
        "outputId": "46f9980e-c946-43d1-aeb9-6775c3d8fd8b",
        "colab": {
          "base_uri": "https://localhost:8080/",
          "height": 453
        }
      },
      "source": [
        "# import tensorflowjs as tfjs\n",
        "# tfjs.converters.save_keras_model(model, 'model')\n",
        "!cp '/content/drive/My Drive/Colab Notebooks/amazon_reviews_sentiment.h5' .\n",
        "!tensorflowjs_converter --input_format=keras_saved_model amazon_reviews_sentiment.h5 model/\n",
        "!zip -r /content/model.zip model/"
      ],
      "execution_count": 22,
      "outputs": [
        {
          "output_type": "stream",
          "text": [
            "2020-05-18 14:54:15.786166: I tensorflow/core/platform/cpu_feature_guard.cc:143] Your CPU supports instructions that this TensorFlow binary was not compiled to use: AVX2 FMA\n",
            "2020-05-18 14:54:15.790223: I tensorflow/core/platform/profile_utils/cpu_utils.cc:102] CPU Frequency: 2200000000 Hz\n",
            "2020-05-18 14:54:15.790413: I tensorflow/compiler/xla/service/service.cc:168] XLA service 0x2d7aa00 initialized for platform Host (this does not guarantee that XLA will be used). Devices:\n",
            "2020-05-18 14:54:15.790446: I tensorflow/compiler/xla/service/service.cc:176]   StreamExecutor device (0): Host, Default Version\n",
            "WARNING:tensorflow:From /usr/local/lib/python3.6/dist-packages/tensorflow/python/ops/resource_variable_ops.py:1666: calling BaseResourceVariable.__init__ (from tensorflow.python.ops.resource_variable_ops) with constraint is deprecated and will be removed in a future version.\n",
            "Instructions for updating:\n",
            "If using Keras pass *_constraint arguments to layers.\n",
            "  adding: model/ (stored 0%)\n",
            "  adding: model/group1-shard10of15.bin (deflated 74%)\n",
            "  adding: model/group1-shard12of15.bin (deflated 76%)\n",
            "  adding: model/group1-shard3of15.bin (deflated 20%)\n",
            "  adding: model/group1-shard2of15.bin (deflated 15%)\n",
            "  adding: model/group1-shard11of15.bin (deflated 74%)\n",
            "  adding: model/model.json (deflated 76%)\n",
            "  adding: model/group1-shard15of15.bin (deflated 75%)\n",
            "  adding: model/group1-shard14of15.bin (deflated 72%)\n",
            "  adding: model/group1-shard1of15.bin (deflated 11%)\n",
            "  adding: model/group1-shard8of15.bin (deflated 54%)\n",
            "  adding: model/group1-shard7of15.bin (deflated 52%)\n",
            "  adding: model/group1-shard6of15.bin (deflated 40%)\n",
            "  adding: model/group1-shard13of15.bin (deflated 72%)\n",
            "  adding: model/group1-shard4of15.bin (deflated 25%)\n",
            "  adding: model/group1-shard9of15.bin (deflated 72%)\n",
            "  adding: model/group1-shard5of15.bin (deflated 33%)\n"
          ],
          "name": "stdout"
        }
      ]
    }
  ]
}