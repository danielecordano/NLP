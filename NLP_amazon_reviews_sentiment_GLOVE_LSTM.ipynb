{
  "nbformat": 4,
  "nbformat_minor": 0,
  "metadata": {
    "accelerator": "GPU",
    "colab": {
      "name": "NLP amazon reviews sentiment GLOVE LSTM.ipynb",
      "provenance": [],
      "collapsed_sections": [],
      "toc_visible": true
    },
    "kernelspec": {
      "display_name": "Python 3",
      "name": "python3"
    }
  },
  "cells": [
    {
      "cell_type": "markdown",
      "metadata": {
        "id": "x4QKrX_ndt8E",
        "colab_type": "text"
      },
      "source": [
        "This notebook generates a model for review sentiment.\n",
        "Let's mount Google Drive."
      ]
    },
    {
      "cell_type": "code",
      "metadata": {
        "id": "2cQj1nyn9WMV",
        "colab_type": "code",
        "outputId": "242d066b-a2ad-408a-d061-11100afd3525",
        "colab": {
          "base_uri": "https://localhost:8080/",
          "height": 124
        }
      },
      "source": [
        "from google.colab import drive\n",
        "drive.mount('/content/drive')"
      ],
      "execution_count": 1,
      "outputs": [
        {
          "output_type": "stream",
          "text": [
            "Go to this URL in a browser: https://accounts.google.com/o/oauth2/auth?client_id=947318989803-6bn6qk8qdgf4n4g3pfee6491hc0brc4i.apps.googleusercontent.com&redirect_uri=urn%3aietf%3awg%3aoauth%3a2.0%3aoob&response_type=code&scope=email%20https%3a%2f%2fwww.googleapis.com%2fauth%2fdocs.test%20https%3a%2f%2fwww.googleapis.com%2fauth%2fdrive%20https%3a%2f%2fwww.googleapis.com%2fauth%2fdrive.photos.readonly%20https%3a%2f%2fwww.googleapis.com%2fauth%2fpeopleapi.readonly\n",
            "\n",
            "Enter your authorization code:\n",
            "··········\n",
            "Mounted at /content/drive\n"
          ],
          "name": "stdout"
        }
      ]
    },
    {
      "cell_type": "markdown",
      "metadata": {
        "id": "ACSITtPFeRnC",
        "colab_type": "text"
      },
      "source": [
        "The following are commands to get the dataset. We do not need them, since we have already downloaded the dataset."
      ]
    },
    {
      "cell_type": "code",
      "metadata": {
        "id": "uG4cAPLLoJlD",
        "colab_type": "code",
        "colab": {}
      },
      "source": [
        "#!wget --no-check-certificate \\\n",
        "#    https://raw.githubusercontent.com/KeithGalli/sklearn/master/data/sentiment/Books_small_10000.json \\\n",
        "#    -O /tmp/reviews.json\n",
        "#!wget --no-check-certificate \\\n",
        "#    http://deepyeti.ucsd.edu/jianmo/amazon/categoryFilesSmall/Books_5.json.gz \\\n",
        "#    -O '/content/drive/My Drive/Colab Notebooks/reviews.json.gz'"
      ],
      "execution_count": 0,
      "outputs": []
    },
    {
      "cell_type": "markdown",
      "metadata": {
        "id": "QOsRmcbyeto0",
        "colab_type": "text"
      },
      "source": [
        "Let's decompress the dataset from Google Drive to the /tmp folder."
      ]
    },
    {
      "cell_type": "code",
      "metadata": {
        "id": "zv2uoz1ioPNO",
        "colab_type": "code",
        "colab": {}
      },
      "source": [
        "!gunzip -c '/content/drive/My Drive/Colab Notebooks/reviews.json.gz' > /tmp/reviews.json"
      ],
      "execution_count": 0,
      "outputs": []
    },
    {
      "cell_type": "markdown",
      "metadata": {
        "id": "mPd_nMbte67J",
        "colab_type": "text"
      },
      "source": [
        "Let's import some libraries and check the Tensorflow version."
      ]
    },
    {
      "cell_type": "code",
      "metadata": {
        "id": "nqAOoh6B8qqr",
        "colab_type": "code",
        "outputId": "d6d38560-238e-4de7-c7f1-31f2f1023751",
        "colab": {
          "base_uri": "https://localhost:8080/",
          "height": 35
        }
      },
      "source": [
        "import json\n",
        "import tensorflow as tf\n",
        "import numpy as np\n",
        "\n",
        "from tensorflow.keras.preprocessing.text import Tokenizer\n",
        "from tensorflow.keras.preprocessing.sequence import pad_sequences\n",
        "\n",
        "print(tf.__version__)"
      ],
      "execution_count": 4,
      "outputs": [
        {
          "output_type": "stream",
          "text": [
            "2.2.0-rc4\n"
          ],
          "name": "stdout"
        }
      ]
    },
    {
      "cell_type": "markdown",
      "metadata": {
        "id": "hZPZrDtXgMg3",
        "colab_type": "text"
      },
      "source": [
        "Let's read the file and split the data into training and testing examples. We convert words to numbers by using the tokenizer. Finally we pad our sequences to make them of the same length."
      ]
    },
    {
      "cell_type": "code",
      "metadata": {
        "colab_type": "code",
        "id": "JdZNYRDkT2n7",
        "outputId": "252627a5-7a32-42b0-cc32-8a15a5b32750",
        "colab": {
          "base_uri": "https://localhost:8080/",
          "height": 87
        }
      },
      "source": [
        "reviews_num = 300000\n",
        "embedding_dim = 100\n",
        "max_length = 120\n",
        "trunc_type='post'\n",
        "padding_type='post'\n",
        "oov_tok = \"<OOV>\"\n",
        "training_portion = .9\n",
        "\n",
        "\n",
        "with open(\"/tmp/reviews.json\", 'r') as f:\n",
        "  sentences = []\n",
        "  labels = []\n",
        "  neg = 0\n",
        "  pos = 0\n",
        "  for line in f:\n",
        "    item = json.loads(line)\n",
        "    valid = ('reviewText' in item) and ('overall' in item)\n",
        "    if valid:\n",
        "      sentence = item['reviewText']\n",
        "      # Remove punctuation\n",
        "      sentence = sentence.strip('!\"#$%&\\'()*+,-./:;<=>?@[\\\\]^_`{|}~')\n",
        "      sentence = sentence.lower()\n",
        "      sentences.append(sentence)\n",
        "      is_positive = item['overall'] > 2.5\n",
        "      if is_positive:\n",
        "        pos += 1\n",
        "      else:\n",
        "        neg += 1\n",
        "      labels.append(int(is_positive))\n",
        "    if len(sentences) == reviews_num:\n",
        "      break\n",
        "\n",
        "print('Number of reviews: ', len(sentences))\n",
        "print('Number of negative reviews: ', neg)\n",
        "print('Number of positive reviews: ', pos)\n",
        "tot = neg + pos\n",
        "\n",
        "training_size = int(training_portion * len(sentences))\n",
        "training_sentences = sentences[0:training_size]\n",
        "testing_sentences = sentences[training_size:]\n",
        "training_labels = labels[0:training_size]\n",
        "testing_labels = labels[training_size:]\n",
        "\n",
        "tokenizer = Tokenizer(oov_token=oov_tok)\n",
        "tokenizer.fit_on_texts(training_sentences)\n",
        "\n",
        "word_index = tokenizer.word_index\n",
        "vocab_size=len(word_index)\n",
        "print(vocab_size)\n",
        "\n",
        "training_sequences = tokenizer.texts_to_sequences(training_sentences)\n",
        "training_padded = pad_sequences(training_sequences, maxlen=max_length, padding=padding_type, truncating=trunc_type)\n",
        "\n",
        "testing_sequences = tokenizer.texts_to_sequences(testing_sentences)\n",
        "testing_padded = pad_sequences(testing_sequences, maxlen=max_length, padding=padding_type, truncating=trunc_type)"
      ],
      "execution_count": 5,
      "outputs": [
        {
          "output_type": "stream",
          "text": [
            "Number of reviews:  300000\n",
            "Number of negative reviews:  23436\n",
            "Number of positive reviews:  276564\n",
            "154172\n"
          ],
          "name": "stdout"
        }
      ]
    },
    {
      "cell_type": "markdown",
      "metadata": {
        "id": "Mlu4l-qihDpc",
        "colab_type": "text"
      },
      "source": [
        "We will use the 100 dimension version of GLOVE as our first Embedding layer of our model."
      ]
    },
    {
      "cell_type": "code",
      "metadata": {
        "id": "5RLJp6y0fTj9",
        "colab_type": "code",
        "colab": {
          "base_uri": "https://localhost:8080/",
          "height": 228
        },
        "outputId": "c1a55c19-1948-4ac3-9946-4fb96f7f5597"
      },
      "source": [
        "# Note this is the 100 dimension version of GloVe from Stanford\n",
        "# Laurence Moroney unzipped and hosted it on his site to make the notebook easier\n",
        "!wget --no-check-certificate \\\n",
        "    https://storage.googleapis.com/laurencemoroney-blog.appspot.com/glove.6B.100d.txt \\\n",
        "    -O /tmp/glove.6B.100d.txt\n",
        "embeddings_index = {};\n",
        "with open('/tmp/glove.6B.100d.txt') as f:\n",
        "    for line in f:\n",
        "        values = line.split();\n",
        "        word = values[0];\n",
        "        coefs = np.asarray(values[1:], dtype='float32');\n",
        "        embeddings_index[word] = coefs;\n",
        "\n",
        "embeddings_matrix = np.zeros((vocab_size+1, embedding_dim));\n",
        "for word, i in word_index.items():\n",
        "    embedding_vector = embeddings_index.get(word);\n",
        "    if embedding_vector is not None:\n",
        "        embeddings_matrix[i] = embedding_vector;"
      ],
      "execution_count": 6,
      "outputs": [
        {
          "output_type": "stream",
          "text": [
            "--2020-05-05 16:20:58--  https://storage.googleapis.com/laurencemoroney-blog.appspot.com/glove.6B.100d.txt\n",
            "Resolving storage.googleapis.com (storage.googleapis.com)... 74.125.204.128, 2404:6800:4008:c04::80\n",
            "Connecting to storage.googleapis.com (storage.googleapis.com)|74.125.204.128|:443... connected.\n",
            "HTTP request sent, awaiting response... 200 OK\n",
            "Length: 347116733 (331M) [text/plain]\n",
            "Saving to: ‘/tmp/glove.6B.100d.txt’\n",
            "\n",
            "/tmp/glove.6B.100d. 100%[===================>] 331.04M  84.4MB/s    in 3.9s    \n",
            "\n",
            "2020-05-05 16:21:03 (84.4 MB/s) - ‘/tmp/glove.6B.100d.txt’ saved [347116733/347116733]\n",
            "\n"
          ],
          "name": "stdout"
        }
      ]
    },
    {
      "cell_type": "markdown",
      "metadata": {
        "id": "dOPR78mJhknN",
        "colab_type": "text"
      },
      "source": [
        "Our dataset is imbalanced, since we have only a few negative reviews. We will take this into account by 'paying more attention' to negative reviews."
      ]
    },
    {
      "cell_type": "code",
      "metadata": {
        "id": "-YK3Fx0yok74",
        "colab_type": "code",
        "outputId": "f44189b4-297a-4514-8e48-3b29aee40cde",
        "colab": {
          "base_uri": "https://localhost:8080/",
          "height": 52
        }
      },
      "source": [
        "weight_for_0 = tot/neg/2.0 \n",
        "weight_for_1 = tot/pos/2.0\n",
        "\n",
        "class_weight = {0: weight_for_0, 1: weight_for_1}\n",
        "\n",
        "print('Weight for class 0: {:.2f}'.format(weight_for_0))\n",
        "print('Weight for class 1: {:.2f}'.format(weight_for_1))"
      ],
      "execution_count": 7,
      "outputs": [
        {
          "output_type": "stream",
          "text": [
            "Weight for class 0: 6.40\n",
            "Weight for class 1: 0.54\n"
          ],
          "name": "stdout"
        }
      ]
    },
    {
      "cell_type": "markdown",
      "metadata": {
        "id": "vyT4GtaAiELW",
        "colab_type": "text"
      },
      "source": [
        "Let's compile the model and get its summary."
      ]
    },
    {
      "cell_type": "code",
      "metadata": {
        "id": "naym6L4y6iih",
        "colab_type": "code",
        "outputId": "3d393a97-8025-4f01-923c-35c6d49bd6d9",
        "colab": {
          "base_uri": "https://localhost:8080/",
          "height": 329
        }
      },
      "source": [
        "tf.keras.backend.clear_session()\n",
        "model = tf.keras.Sequential([\n",
        "    tf.keras.layers.Embedding(vocab_size+1, embedding_dim, input_length=max_length, weights=[embeddings_matrix], trainable=False),\n",
        "    tf.keras.layers.Dropout(0.4),\n",
        "    tf.keras.layers.Bidirectional(tf.keras.layers.LSTM(32)),\n",
        "    tf.keras.layers.Dense(32, activation='relu'),\n",
        "    tf.keras.layers.Dense(1, activation='sigmoid')\n",
        "])\n",
        "model.compile(loss='binary_crossentropy',optimizer='adam',metrics=['accuracy'])\n",
        "model.summary()\n"
      ],
      "execution_count": 8,
      "outputs": [
        {
          "output_type": "stream",
          "text": [
            "Model: \"sequential\"\n",
            "_________________________________________________________________\n",
            "Layer (type)                 Output Shape              Param #   \n",
            "=================================================================\n",
            "embedding (Embedding)        (None, 120, 100)          15417300  \n",
            "_________________________________________________________________\n",
            "dropout (Dropout)            (None, 120, 100)          0         \n",
            "_________________________________________________________________\n",
            "bidirectional (Bidirectional (None, 64)                34048     \n",
            "_________________________________________________________________\n",
            "dense (Dense)                (None, 32)                2080      \n",
            "_________________________________________________________________\n",
            "dense_1 (Dense)              (None, 1)                 33        \n",
            "=================================================================\n",
            "Total params: 15,453,461\n",
            "Trainable params: 36,161\n",
            "Non-trainable params: 15,417,300\n",
            "_________________________________________________________________\n"
          ],
          "name": "stdout"
        }
      ]
    },
    {
      "cell_type": "markdown",
      "metadata": {
        "id": "cYYkNWbqiMdM",
        "colab_type": "text"
      },
      "source": [
        "Let's train our model."
      ]
    },
    {
      "cell_type": "code",
      "metadata": {
        "id": "nHPsu71tbVnc",
        "colab_type": "code",
        "outputId": "c18d7030-3c2e-4ee5-a609-b7b6497e1b46",
        "colab": {
          "base_uri": "https://localhost:8080/",
          "height": 384
        }
      },
      "source": [
        "num_epochs = 10\n",
        "training_padded = np.array(training_padded)\n",
        "training_labels = np.array(training_labels)\n",
        "testing_padded = np.array(testing_padded)\n",
        "testing_labels = np.array(testing_labels)\n",
        "history = model.fit(\n",
        "  training_padded,\n",
        "  training_labels,\n",
        "  epochs=num_epochs,\n",
        "  validation_data=(testing_padded, testing_labels),\n",
        "  class_weight = class_weight,\n",
        "  verbose=1)\n"
      ],
      "execution_count": 9,
      "outputs": [
        {
          "output_type": "stream",
          "text": [
            "Epoch 1/10\n",
            "8438/8438 [==============================] - 127s 15ms/step - loss: 0.4779 - accuracy: 0.7494 - val_loss: 0.3663 - val_accuracy: 0.8300\n",
            "Epoch 2/10\n",
            "8438/8438 [==============================] - 128s 15ms/step - loss: 0.4128 - accuracy: 0.7924 - val_loss: 0.3391 - val_accuracy: 0.8434\n",
            "Epoch 3/10\n",
            "8438/8438 [==============================] - 127s 15ms/step - loss: 0.3925 - accuracy: 0.8070 - val_loss: 0.4209 - val_accuracy: 0.7930\n",
            "Epoch 4/10\n",
            "8438/8438 [==============================] - 127s 15ms/step - loss: 0.3802 - accuracy: 0.8139 - val_loss: 0.3295 - val_accuracy: 0.8578\n",
            "Epoch 5/10\n",
            "8438/8438 [==============================] - 128s 15ms/step - loss: 0.3724 - accuracy: 0.8171 - val_loss: 0.3104 - val_accuracy: 0.8629\n",
            "Epoch 6/10\n",
            "8438/8438 [==============================] - 128s 15ms/step - loss: 0.3652 - accuracy: 0.8205 - val_loss: 0.3421 - val_accuracy: 0.8480\n",
            "Epoch 7/10\n",
            "8438/8438 [==============================] - 129s 15ms/step - loss: 0.3604 - accuracy: 0.8258 - val_loss: 0.4706 - val_accuracy: 0.7828\n",
            "Epoch 8/10\n",
            "8438/8438 [==============================] - 129s 15ms/step - loss: 0.3551 - accuracy: 0.8266 - val_loss: 0.3243 - val_accuracy: 0.8548\n",
            "Epoch 9/10\n",
            "8438/8438 [==============================] - 129s 15ms/step - loss: 0.3531 - accuracy: 0.8284 - val_loss: 0.4032 - val_accuracy: 0.8217\n",
            "Epoch 10/10\n",
            "8438/8438 [==============================] - 129s 15ms/step - loss: 0.3487 - accuracy: 0.8301 - val_loss: 0.3177 - val_accuracy: 0.8589\n"
          ],
          "name": "stdout"
        }
      ]
    },
    {
      "cell_type": "markdown",
      "metadata": {
        "id": "ID9U48-HicPk",
        "colab_type": "text"
      },
      "source": [
        "Let's inspect some training metrics."
      ]
    },
    {
      "cell_type": "code",
      "metadata": {
        "colab_type": "code",
        "id": "g9DC6dmLF8DC",
        "outputId": "c50099f0-2264-4f7f-c10f-f33ce55530af",
        "colab": {
          "base_uri": "https://localhost:8080/",
          "height": 541
        }
      },
      "source": [
        "import matplotlib.pyplot as plt\n",
        "\n",
        "\n",
        "def plot_graphs(history, string):\n",
        "  plt.plot(history.history[string])\n",
        "  plt.plot(history.history['val_'+string])\n",
        "  plt.xlabel(\"Epochs\")\n",
        "  plt.ylabel(string)\n",
        "  plt.legend([string, 'val_'+string])\n",
        "  plt.show()\n",
        "\n",
        "plot_graphs(history, 'accuracy')\n",
        "plot_graphs(history, 'loss')"
      ],
      "execution_count": 10,
      "outputs": [
        {
          "output_type": "display_data",
          "data": {
            "image/png": "[encoded data removed]",
            "text/plain": [
              "<Figure size 432x288 with 1 Axes>"
            ]
          },
          "metadata": {
            "tags": [],
            "needs_background": "light"
          }
        },
        {
          "output_type": "display_data",
          "data": {
            "image/png": "[encoded data removed]",
            "text/plain": [
              "<Figure size 432x288 with 1 Axes>"
            ]
          },
          "metadata": {
            "tags": [],
            "needs_background": "light"
          }
        }
      ]
    },
    {
      "cell_type": "markdown",
      "metadata": {
        "id": "-kTGNHqSilCa",
        "colab_type": "text"
      },
      "source": [
        "Now we can use our model to predict and see how it performs. Note that we need to preprocess our reviews the same way as we did with the training examples."
      ]
    },
    {
      "cell_type": "code",
      "metadata": {
        "id": "NddLX5s8fGvj",
        "colab_type": "code",
        "outputId": "82b7d4a2-43d1-4f28-da55-67a0de2d0d60",
        "colab": {
          "base_uri": "https://localhost:8080/",
          "height": 87
        }
      },
      "source": [
        "new_reviews = [\"This book was very easy to read. I really enjoyed it.\", \"I would not recommend this book to anyone\", \"This book is not interesting\",\"I am sure this book is chalk full of good info! However it is certainly not a beginners book to investing. If you're like me and have no idea what the definition of terms like 'net tangible assets', and 'sub working capital' are it may be best to find a true beginners book as a prequel to this one. Lots of good info I cant yet understand.\"]\n",
        "new_reviews_stripped = []\n",
        "for review in new_reviews:\n",
        "  # Remove punctuation\n",
        "  review = review.strip('!\"#$%&\\'()*+,-./:;<=>?@[\\\\]^_`{|}~')\n",
        "  review = review.lower()\n",
        "  new_reviews_stripped.append(review)\n",
        "new_reviews_numeric = tokenizer.texts_to_sequences(new_reviews_stripped)\n",
        "new_reviews_padded = pad_sequences(new_reviews_numeric, maxlen=max_length, padding=padding_type, truncating=trunc_type)\n",
        "predictions = model.predict(new_reviews_padded);\n",
        "print(predictions)"
      ],
      "execution_count": 11,
      "outputs": [
        {
          "output_type": "stream",
          "text": [
            "[[0.9865329 ]\n",
            " [0.06475276]\n",
            " [0.07624452]\n",
            " [0.11608034]]\n"
          ],
          "name": "stdout"
        }
      ]
    },
    {
      "cell_type": "markdown",
      "metadata": {
        "id": "ODO37SF5j0DM",
        "colab_type": "text"
      },
      "source": [
        "Let's have the model's predictions on the testing samples and plot the ROC curve. We find the optimal output threshold, which maximizes the Youden's J statistic."
      ]
    },
    {
      "cell_type": "code",
      "metadata": {
        "id": "bfJWQiaB0T7S",
        "colab_type": "code",
        "colab": {}
      },
      "source": [
        "predictions = model.predict(testing_padded)"
      ],
      "execution_count": 0,
      "outputs": []
    },
    {
      "cell_type": "code",
      "metadata": {
        "id": "qNSv1Ey00OYB",
        "colab_type": "code",
        "outputId": "b82b8df9-7b83-4b4f-d69c-b5b5d74bcb97",
        "colab": {
          "base_uri": "https://localhost:8080/",
          "height": 351
        }
      },
      "source": [
        "import sklearn.metrics\n",
        "\n",
        "def plot_roc(name, labels, predictions, **kwargs):\n",
        "  fpr, tpr, thresholds = sklearn.metrics.roc_curve(labels, predictions)\n",
        "  plt.plot(fpr, tpr, label=name, linewidth=2, **kwargs)\n",
        "  plt.xlabel('False positives rate')\n",
        "  plt.ylabel('True positives rate')\n",
        "  plt.grid(True)\n",
        "  # Youden's J statistic\n",
        "  J = tpr - fpr\n",
        "  ix = np.argmax(J)\n",
        "  best_threshold = thresholds[ix]\n",
        "  plt.plot([0,1], [0,1], linestyle='--', color='k', label='No Skill')\n",
        "  plt.scatter(fpr[ix], tpr[ix], marker='o', color='r', label='Best')\n",
        "  ax = plt.gca()\n",
        "  ax.set_aspect('equal')\n",
        "  return best_threshold\n",
        "\n",
        "plt.figure(figsize=(5,5))\n",
        "best_threshold = plot_roc(\n",
        "  \"LSTM bidirectional\",\n",
        "  testing_labels,\n",
        "  predictions,\n",
        "  color='b')\n",
        "print(best_threshold)"
      ],
      "execution_count": 13,
      "outputs": [
        {
          "output_type": "stream",
          "text": [
            "0.5272851\n"
          ],
          "name": "stdout"
        },
        {
          "output_type": "display_data",
          "data": {
            "image/png": "[encoded data removed]",
            "text/plain": [
              "<Figure size 360x360 with 1 Axes>"
            ]
          },
          "metadata": {
            "tags": [],
            "needs_background": "light"
          }
        }
      ]
    },
    {
      "cell_type": "markdown",
      "metadata": {
        "id": "sBfrNXirjHrO",
        "colab_type": "text"
      },
      "source": [
        "Let's save the word index of the tokenizer and the model."
      ]
    },
    {
      "cell_type": "code",
      "metadata": {
        "id": "geqFbQqunu4h",
        "colab_type": "code",
        "colab": {}
      },
      "source": [
        "with open( 'word_index.json' , 'w' ) as file:    \n",
        "    json.dump( tokenizer.word_index , file )\n",
        "model.save(\"amazon_reviews_sentiment.h5\")"
      ],
      "execution_count": 0,
      "outputs": []
    },
    {
      "cell_type": "markdown",
      "metadata": {
        "id": "dpfiwLr-jSTl",
        "colab_type": "text"
      },
      "source": [
        "Let's install Tensorflow.js."
      ]
    },
    {
      "cell_type": "code",
      "metadata": {
        "id": "CNvEiOfGrRp7",
        "colab_type": "code",
        "outputId": "d9422369-6cc8-402c-d975-42a5b94d2757",
        "colab": {
          "base_uri": "https://localhost:8080/",
          "height": 1000
        }
      },
      "source": [
        "!pip install tensorflowjs"
      ],
      "execution_count": 15,
      "outputs": [
        {
          "output_type": "stream",
          "text": [
            "Collecting tensorflowjs\n",
            "\u001b[?25l  Downloading https://files.pythonhosted.org/packages/be/83/14e75c096dea745333578f2f79ac566c8c60056a15828b67e1c2bf2e0325/tensorflowjs-1.7.4-py3-none-any.whl (57kB)\n",
            "\u001b[K     |████████████████████████████████| 61kB 1.8MB/s \n",
            "\u001b[?25hRequirement already satisfied: six>=1.12.0 in /usr/local/lib/python3.6/dist-packages (from tensorflowjs) (1.12.0)\n",
            "Collecting tensorflow-hub==0.7.0\n",
            "\u001b[?25l  Downloading https://files.pythonhosted.org/packages/00/0e/a91780d07592b1abf9c91344ce459472cc19db3b67fdf3a61dca6ebb2f5c/tensorflow_hub-0.7.0-py2.py3-none-any.whl (89kB)\n",
            "\u001b[K     |████████████████████████████████| 92kB 4.4MB/s \n",
            "\u001b[?25hCollecting tensorflow-cpu==2.1.0\n",
            "\u001b[?25l  Downloading https://files.pythonhosted.org/packages/1f/a9/d8e5118b4cc096633c04677809f0000519c43043b01311da02678349acf4/tensorflow_cpu-2.1.0-cp36-cp36m-manylinux2010_x86_64.whl (104.6MB)\n",
            "\u001b[K     |████████████████████████████████| 104.6MB 39kB/s \n",
            "\u001b[?25hCollecting PyInquirer==1.0.3\n",
            "  Downloading https://files.pythonhosted.org/packages/fb/4c/434b7c454010a284b49d6f1d446fe8dc5960415613d8c0225b9e2efb6724/PyInquirer-1.0.3.tar.gz\n",
            "Requirement already satisfied: h5py>=2.8.0 in /usr/local/lib/python3.6/dist-packages (from tensorflowjs) (2.10.0)\n",
            "Collecting gast==0.2.2\n",
            "  Downloading https://files.pythonhosted.org/packages/4e/35/11749bf99b2d4e3cceb4d55ca22590b0d7c2c62b9de38ac4a4a7f4687421/gast-0.2.2.tar.gz\n",
            "Requirement already satisfied: numpy>=1.16.4 in /usr/local/lib/python3.6/dist-packages (from tensorflowjs) (1.18.3)\n",
            "Requirement already satisfied: protobuf>=3.4.0 in /usr/local/lib/python3.6/dist-packages (from tensorflow-hub==0.7.0->tensorflowjs) (3.10.0)\n",
            "Requirement already satisfied: absl-py>=0.7.0 in /usr/local/lib/python3.6/dist-packages (from tensorflow-cpu==2.1.0->tensorflowjs) (0.9.0)\n",
            "Requirement already satisfied: opt-einsum>=2.3.2 in /usr/local/lib/python3.6/dist-packages (from tensorflow-cpu==2.1.0->tensorflowjs) (3.2.1)\n",
            "Collecting tensorboard<2.2.0,>=2.1.0\n",
            "\u001b[?25l  Downloading https://files.pythonhosted.org/packages/d9/41/bbf49b61370e4f4d245d4c6051dfb6db80cec672605c91b1652ac8cc3d38/tensorboard-2.1.1-py3-none-any.whl (3.8MB)\n",
            "\u001b[K     |████████████████████████████████| 3.9MB 36.6MB/s \n",
            "\u001b[?25hCollecting tensorflow-estimator<2.2.0,>=2.1.0rc0\n",
            "\u001b[?25l  Downloading https://files.pythonhosted.org/packages/18/90/b77c328a1304437ab1310b463e533fa7689f4bfc41549593056d812fab8e/tensorflow_estimator-2.1.0-py2.py3-none-any.whl (448kB)\n",
            "\u001b[K     |████████████████████████████████| 450kB 37.0MB/s \n",
            "\u001b[?25hRequirement already satisfied: scipy==1.4.1; python_version >= \"3\" in /usr/local/lib/python3.6/dist-packages (from tensorflow-cpu==2.1.0->tensorflowjs) (1.4.1)\n",
            "Requirement already satisfied: keras-applications>=1.0.8 in /usr/local/lib/python3.6/dist-packages (from tensorflow-cpu==2.1.0->tensorflowjs) (1.0.8)\n",
            "Requirement already satisfied: google-pasta>=0.1.6 in /usr/local/lib/python3.6/dist-packages (from tensorflow-cpu==2.1.0->tensorflowjs) (0.2.0)\n",
            "Requirement already satisfied: grpcio>=1.8.6 in /usr/local/lib/python3.6/dist-packages (from tensorflow-cpu==2.1.0->tensorflowjs) (1.28.1)\n",
            "Requirement already satisfied: astor>=0.6.0 in /usr/local/lib/python3.6/dist-packages (from tensorflow-cpu==2.1.0->tensorflowjs) (0.8.1)\n",
            "Requirement already satisfied: termcolor>=1.1.0 in /usr/local/lib/python3.6/dist-packages (from tensorflow-cpu==2.1.0->tensorflowjs) (1.1.0)\n",
            "Requirement already satisfied: wheel>=0.26; python_version >= \"3\" in /usr/local/lib/python3.6/dist-packages (from tensorflow-cpu==2.1.0->tensorflowjs) (0.34.2)\n",
            "Requirement already satisfied: keras-preprocessing>=1.1.0 in /usr/local/lib/python3.6/dist-packages (from tensorflow-cpu==2.1.0->tensorflowjs) (1.1.0)\n",
            "Requirement already satisfied: wrapt>=1.11.1 in /usr/local/lib/python3.6/dist-packages (from tensorflow-cpu==2.1.0->tensorflowjs) (1.12.1)\n",
            "Collecting prompt_toolkit==1.0.14\n",
            "\u001b[?25l  Downloading https://files.pythonhosted.org/packages/ee/3d/b25d35a9f0d381dd1c02d8e04b37c353caaaff4bc32150328eeebe4931f5/prompt_toolkit-1.0.14-py3-none-any.whl (248kB)\n",
            "\u001b[K     |████████████████████████████████| 256kB 36.5MB/s \n",
            "\u001b[?25hCollecting Pygments>=2.2.0\n",
            "\u001b[?25l  Downloading https://files.pythonhosted.org/packages/2d/68/106af3ae51daf807e9cdcba6a90e518954eb8b70341cee52995540a53ead/Pygments-2.6.1-py3-none-any.whl (914kB)\n",
            "\u001b[K     |████████████████████████████████| 921kB 37.2MB/s \n",
            "\u001b[?25hRequirement already satisfied: regex>=2016.11.21 in /usr/local/lib/python3.6/dist-packages (from PyInquirer==1.0.3->tensorflowjs) (2019.12.20)\n",
            "Requirement already satisfied: setuptools in /usr/local/lib/python3.6/dist-packages (from protobuf>=3.4.0->tensorflow-hub==0.7.0->tensorflowjs) (46.1.3)\n",
            "Requirement already satisfied: requests<3,>=2.21.0 in /usr/local/lib/python3.6/dist-packages (from tensorboard<2.2.0,>=2.1.0->tensorflow-cpu==2.1.0->tensorflowjs) (2.23.0)\n",
            "Requirement already satisfied: google-auth<2,>=1.6.3 in /usr/local/lib/python3.6/dist-packages (from tensorboard<2.2.0,>=2.1.0->tensorflow-cpu==2.1.0->tensorflowjs) (1.7.2)\n",
            "Requirement already satisfied: google-auth-oauthlib<0.5,>=0.4.1 in /usr/local/lib/python3.6/dist-packages (from tensorboard<2.2.0,>=2.1.0->tensorflow-cpu==2.1.0->tensorflowjs) (0.4.1)\n",
            "Requirement already satisfied: werkzeug>=0.11.15 in /usr/local/lib/python3.6/dist-packages (from tensorboard<2.2.0,>=2.1.0->tensorflow-cpu==2.1.0->tensorflowjs) (1.0.1)\n",
            "Requirement already satisfied: markdown>=2.6.8 in /usr/local/lib/python3.6/dist-packages (from tensorboard<2.2.0,>=2.1.0->tensorflow-cpu==2.1.0->tensorflowjs) (3.2.1)\n",
            "Requirement already satisfied: wcwidth in /usr/local/lib/python3.6/dist-packages (from prompt_toolkit==1.0.14->PyInquirer==1.0.3->tensorflowjs) (0.1.9)\n",
            "Requirement already satisfied: certifi>=2017.4.17 in /usr/local/lib/python3.6/dist-packages (from requests<3,>=2.21.0->tensorboard<2.2.0,>=2.1.0->tensorflow-cpu==2.1.0->tensorflowjs) (2020.4.5.1)\n",
            "Requirement already satisfied: urllib3!=1.25.0,!=1.25.1,<1.26,>=1.21.1 in /usr/local/lib/python3.6/dist-packages (from requests<3,>=2.21.0->tensorboard<2.2.0,>=2.1.0->tensorflow-cpu==2.1.0->tensorflowjs) (1.24.3)\n",
            "Requirement already satisfied: idna<3,>=2.5 in /usr/local/lib/python3.6/dist-packages (from requests<3,>=2.21.0->tensorboard<2.2.0,>=2.1.0->tensorflow-cpu==2.1.0->tensorflowjs) (2.9)\n",
            "Requirement already satisfied: chardet<4,>=3.0.2 in /usr/local/lib/python3.6/dist-packages (from requests<3,>=2.21.0->tensorboard<2.2.0,>=2.1.0->tensorflow-cpu==2.1.0->tensorflowjs) (3.0.4)\n",
            "Requirement already satisfied: pyasn1-modules>=0.2.1 in /usr/local/lib/python3.6/dist-packages (from google-auth<2,>=1.6.3->tensorboard<2.2.0,>=2.1.0->tensorflow-cpu==2.1.0->tensorflowjs) (0.2.8)\n",
            "Requirement already satisfied: rsa<4.1,>=3.1.4 in /usr/local/lib/python3.6/dist-packages (from google-auth<2,>=1.6.3->tensorboard<2.2.0,>=2.1.0->tensorflow-cpu==2.1.0->tensorflowjs) (4.0)\n",
            "Requirement already satisfied: cachetools<3.2,>=2.0.0 in /usr/local/lib/python3.6/dist-packages (from google-auth<2,>=1.6.3->tensorboard<2.2.0,>=2.1.0->tensorflow-cpu==2.1.0->tensorflowjs) (3.1.1)\n",
            "Requirement already satisfied: requests-oauthlib>=0.7.0 in /usr/local/lib/python3.6/dist-packages (from google-auth-oauthlib<0.5,>=0.4.1->tensorboard<2.2.0,>=2.1.0->tensorflow-cpu==2.1.0->tensorflowjs) (1.3.0)\n",
            "Requirement already satisfied: pyasn1<0.5.0,>=0.4.6 in /usr/local/lib/python3.6/dist-packages (from pyasn1-modules>=0.2.1->google-auth<2,>=1.6.3->tensorboard<2.2.0,>=2.1.0->tensorflow-cpu==2.1.0->tensorflowjs) (0.4.8)\n",
            "Requirement already satisfied: oauthlib>=3.0.0 in /usr/local/lib/python3.6/dist-packages (from requests-oauthlib>=0.7.0->google-auth-oauthlib<0.5,>=0.4.1->tensorboard<2.2.0,>=2.1.0->tensorflow-cpu==2.1.0->tensorflowjs) (3.1.0)\n",
            "Building wheels for collected packages: PyInquirer, gast\n",
            "  Building wheel for PyInquirer (setup.py) ... \u001b[?25l\u001b[?25hdone\n",
            "  Created wheel for PyInquirer: filename=PyInquirer-1.0.3-cp36-none-any.whl size=32851 sha256=efb8329eb1a7e2561a64c29d46294865c348afc6722531e0fbbe22c27186f5a6\n",
            "  Stored in directory: /root/.cache/pip/wheels/52/6c/b1/3e4b0e8daf42a92883c7641c0ea8ffb62e0490ebed2faa55ad\n",
            "  Building wheel for gast (setup.py) ... \u001b[?25l\u001b[?25hdone\n",
            "  Created wheel for gast: filename=gast-0.2.2-cp36-none-any.whl size=7540 sha256=fa9d9486839b66bd8e6e0f67bcb675f8aa4bad9bdc63c1a8978494fcb0f6f975\n",
            "  Stored in directory: /root/.cache/pip/wheels/5c/2e/7e/a1d4d4fcebe6c381f378ce7743a3ced3699feb89bcfbdadadd\n",
            "Successfully built PyInquirer gast\n",
            "\u001b[31mERROR: tensorflow 2.2.0rc4 has requirement gast==0.3.3, but you'll have gast 0.2.2 which is incompatible.\u001b[0m\n",
            "\u001b[31mERROR: tensorflow 2.2.0rc4 has requirement tensorboard<2.3.0,>=2.2.0, but you'll have tensorboard 2.1.1 which is incompatible.\u001b[0m\n",
            "\u001b[31mERROR: tensorflow 2.2.0rc4 has requirement tensorflow-estimator<2.3.0,>=2.2.0, but you'll have tensorflow-estimator 2.1.0 which is incompatible.\u001b[0m\n",
            "\u001b[31mERROR: tensorflow-probability 0.10.0rc0 has requirement gast>=0.3.2, but you'll have gast 0.2.2 which is incompatible.\u001b[0m\n",
            "\u001b[31mERROR: datascience 0.10.6 has requirement folium==0.2.1, but you'll have folium 0.8.3 which is incompatible.\u001b[0m\n",
            "Installing collected packages: tensorflow-hub, tensorboard, tensorflow-estimator, gast, tensorflow-cpu, prompt-toolkit, Pygments, PyInquirer, tensorflowjs\n",
            "  Found existing installation: tensorflow-hub 0.8.0\n",
            "    Uninstalling tensorflow-hub-0.8.0:\n",
            "      Successfully uninstalled tensorflow-hub-0.8.0\n",
            "  Found existing installation: tensorboard 2.2.1\n",
            "    Uninstalling tensorboard-2.2.1:\n",
            "      Successfully uninstalled tensorboard-2.2.1\n",
            "  Found existing installation: tensorflow-estimator 2.2.0\n",
            "    Uninstalling tensorflow-estimator-2.2.0:\n",
            "      Successfully uninstalled tensorflow-estimator-2.2.0\n",
            "  Found existing installation: gast 0.3.3\n",
            "    Uninstalling gast-0.3.3:\n",
            "      Successfully uninstalled gast-0.3.3\n",
            "  Found existing installation: prompt-toolkit 1.0.18\n",
            "    Uninstalling prompt-toolkit-1.0.18:\n",
            "      Successfully uninstalled prompt-toolkit-1.0.18\n",
            "  Found existing installation: Pygments 2.1.3\n",
            "    Uninstalling Pygments-2.1.3:\n",
            "      Successfully uninstalled Pygments-2.1.3\n",
            "Successfully installed PyInquirer-1.0.3 Pygments-2.6.1 gast-0.2.2 prompt-toolkit-1.0.14 tensorboard-2.1.1 tensorflow-cpu-2.1.0 tensorflow-estimator-2.1.0 tensorflow-hub-0.7.0 tensorflowjs-1.7.4\n"
          ],
          "name": "stdout"
        },
        {
          "output_type": "display_data",
          "data": {
            "application/vnd.colab-display-data+json": {
              "pip_warning": {
                "packages": [
                  "gast",
                  "prompt_toolkit",
                  "pygments",
                  "tensorboard",
                  "tensorflow"
                ]
              }
            }
          },
          "metadata": {
            "tags": []
          }
        }
      ]
    },
    {
      "cell_type": "markdown",
      "metadata": {
        "id": "u_hxwNBike99",
        "colab_type": "text"
      },
      "source": [
        "We use Tensorflow.js to convert our model to JSON format and zip it for download. This way our model can be loaded in a webpage using Javascript."
      ]
    },
    {
      "cell_type": "code",
      "metadata": {
        "id": "wTwuLZCpqovV",
        "colab_type": "code",
        "outputId": "e3f9791e-d5df-4ef6-9b57-95bcd1684bbd",
        "colab": {
          "base_uri": "https://localhost:8080/",
          "height": 471
        }
      },
      "source": [
        "# import tensorflowjs as tfjs\n",
        "# tfjs.converters.save_keras_model(model, 'model')\n",
        "!tensorflowjs_converter --input_format=keras_saved_model amazon_reviews_sentiment.h5 model/\n",
        "!zip -r /content/model.zip model/"
      ],
      "execution_count": 16,
      "outputs": [
        {
          "output_type": "stream",
          "text": [
            "2020-05-05 16:43:43.525664: I tensorflow/core/platform/cpu_feature_guard.cc:142] Your CPU supports instructions that this TensorFlow binary was not compiled to use: AVX2 FMA\n",
            "2020-05-05 16:43:43.530373: I tensorflow/core/platform/profile_utils/cpu_utils.cc:94] CPU Frequency: 2300000000 Hz\n",
            "2020-05-05 16:43:43.530685: I tensorflow/compiler/xla/service/service.cc:168] XLA service 0x18e6840 initialized for platform Host (this does not guarantee that XLA will be used). Devices:\n",
            "2020-05-05 16:43:43.530722: I tensorflow/compiler/xla/service/service.cc:176]   StreamExecutor device (0): Host, Default Version\n",
            "WARNING:tensorflow:From /usr/local/lib/python3.6/dist-packages/tensorflow_core/python/ops/resource_variable_ops.py:1635: calling BaseResourceVariable.__init__ (from tensorflow.python.ops.resource_variable_ops) with constraint is deprecated and will be removed in a future version.\n",
            "Instructions for updating:\n",
            "If using Keras pass *_constraint arguments to layers.\n",
            "2020-05-05 16:43:44.902735: W tensorflow/c/c_api.cc:326] Operation '{name:'bidirectional/backward_lstm_1/while' id:497 op device:{} def:{{{node bidirectional/backward_lstm_1/while}} = While[T=[DT_INT32, DT_INT32, DT_INT32, DT_VARIANT, DT_FLOAT, ..., DT_VARIANT, DT_VARIANT, DT_VARIANT, DT_VARIANT, DT_VARIANT], _lower_using_switch_merge=true, _num_original_outputs=45, body=bidirectional_backward_lstm_1_while_body_664[], cond=bidirectional_backward_lstm_1_while_cond_663[], output_shapes=[[], [], [], [], [?,32], ..., [], [], [], [], []], parallel_iterations=32](bidirectional/backward_lstm_1/while/loop_counter, bidirectional/backward_lstm_1/while/maximum_iterations, bidirectional/backward_lstm_1/time, bidirectional/backward_lstm_1/TensorArrayV2_1, bidirectional/backward_lstm_1/zeros, bidirectional/backward_lstm_1/zeros_1, bidirectional/backward_lstm_1/strided_slice_1, bidirectional/backward_lstm_1/TensorArrayUnstack/TensorListFromTensor, bidirectional/backward_lstm/kernel, bidirectional/backward_lstm/recurrent_kernel, bidirectional/backward_lstm/bias, bidirectional/backward_lstm_1/while/EmptyTensorList, bidirectional/backward_lstm_1/while/EmptyTensorList_1, bidirectional/backward_lstm_1/while/EmptyTensorList_2, bidirectional/backward_lstm_1/while/EmptyTensorList_3, bidirectional/backward_lstm_1/while/EmptyTensorList_4, bidirectional/backward_lstm_1/while/EmptyTensorList_5, bidirectional/backward_lstm_1/while/EmptyTensorList_6, bidirectional/backward_lstm_1/while/EmptyTensorList_7, bidirectional/backward_lstm_1/while/EmptyTensorList_8, bidirectional/backward_lstm_1/while/EmptyTensorList_9, bidirectional/backward_lstm_1/while/EmptyTensorList_10, bidirectional/backward_lstm_1/while/EmptyTensorList_11, bidirectional/backward_lstm_1/while/EmptyTensorList_12, bidirectional/backward_lstm_1/while/EmptyTensorList_13, bidirectional/backward_lstm_1/while/EmptyTensorList_14, bidirectional/backward_lstm_1/while/EmptyTensorList_15, bidirectional/backward_lstm_1/while/EmptyTensorList_16, bidirectional/backward_lstm_1/while/EmptyTensorList_17, bidirectional/backward_lstm_1/while/EmptyTensorList_18, bidirectional/backward_lstm_1/while/EmptyTensorList_19, bidirectional/backward_lstm_1/while/EmptyTensorList_20, bidirectional/backward_lstm_1/while/EmptyTensorList_21, bidirectional/backward_lstm_1/while/EmptyTensorList_22, bidirectional/backward_lstm_1/while/EmptyTensorList_23, bidirectional/backward_lstm_1/while/EmptyTensorList_24, bidirectional/backward_lstm_1/while/EmptyTensorList_25, bidirectional/backward_lstm_1/while/EmptyTensorList_26, bidirectional/backward_lstm_1/while/EmptyTensorList_27, bidirectional/backward_lstm_1/while/EmptyTensorList_28, bidirectional/backward_lstm_1/while/EmptyTensorList_29, bidirectional/backward_lstm_1/while/EmptyTensorList_30, bidirectional/backward_lstm_1/while/EmptyTensorList_31, bidirectional/backward_lstm_1/while/EmptyTensorList_32, bidirectional/backward_lstm_1/while/EmptyTensorList_33)}}' was changed by setting attribute after it was run by a session. This mutation will have no effect, and will trigger an error in the future. Either don't modify nodes after running them or create a new session.\n",
            "  adding: model/ (stored 0%)\n",
            "  adding: model/group1-shard7of15.bin (deflated 52%)\n",
            "  adding: model/group1-shard15of15.bin (deflated 75%)\n",
            "  adding: model/group1-shard1of15.bin (deflated 11%)\n",
            "  adding: model/group1-shard9of15.bin (deflated 72%)\n",
            "  adding: model/group1-shard11of15.bin (deflated 74%)\n",
            "  adding: model/group1-shard6of15.bin (deflated 40%)\n",
            "  adding: model/group1-shard4of15.bin (deflated 25%)\n",
            "  adding: model/group1-shard8of15.bin (deflated 54%)\n",
            "  adding: model/group1-shard3of15.bin (deflated 20%)\n",
            "  adding: model/model.json (deflated 76%)\n",
            "  adding: model/group1-shard13of15.bin (deflated 72%)\n",
            "  adding: model/group1-shard12of15.bin (deflated 76%)\n",
            "  adding: model/group1-shard14of15.bin (deflated 72%)\n",
            "  adding: model/group1-shard2of15.bin (deflated 15%)\n",
            "  adding: model/group1-shard10of15.bin (deflated 74%)\n",
            "  adding: model/group1-shard5of15.bin (deflated 33%)\n"
          ],
          "name": "stdout"
        }
      ]
    }
  ]
}