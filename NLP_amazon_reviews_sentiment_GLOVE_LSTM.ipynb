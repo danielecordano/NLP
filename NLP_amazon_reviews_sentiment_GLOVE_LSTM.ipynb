{
  "nbformat": 4,
  "nbformat_minor": 0,
  "metadata": {
    "accelerator": "GPU",
    "colab": {
      "name": "NLP amazon reviews sentiment GLOVE LSTM.ipynb",
      "provenance": [],
      "collapsed_sections": [],
      "toc_visible": true,
      "include_colab_link": true
    },
    "kernelspec": {
      "display_name": "Python 3",
      "name": "python3"
    }
  },
  "cells": [
    {
      "cell_type": "markdown",
      "metadata": {
        "id": "view-in-github",
        "colab_type": "text"
      },
      "source": [
        "<a href=\"https://colab.research.google.com/github/danielecordano/NLP/blob/master/NLP_amazon_reviews_sentiment_GLOVE_LSTM.ipynb\" target=\"_parent\"><img src=\"https://colab.research.google.com/assets/colab-badge.svg\" alt=\"Open In Colab\"/></a>"
      ]
    },
    {
      "cell_type": "code",
      "metadata": {
        "colab_type": "code",
        "id": "JdZNYRDkT2n7",
        "colab": {
          "base_uri": "https://localhost:8080/",
          "height": 765
        },
        "outputId": "37d36da1-1543-44a5-a400-6fdbd05dcd88"
      },
      "source": [
        "import json\n",
        "import tensorflow as tf\n",
        "import numpy as np\n",
        "\n",
        "from tensorflow.keras.preprocessing.text import Tokenizer\n",
        "from tensorflow.keras.preprocessing.sequence import pad_sequences\n",
        "\n",
        "print(tf.__version__)\n",
        "\n",
        "!wget --no-check-certificate \\\n",
        "    https://raw.githubusercontent.com/KeithGalli/sklearn/master/data/sentiment/Books_small_10000.json \\\n",
        "    -O /tmp/reviews.json\n",
        "\n",
        "embedding_dim = 100\n",
        "max_length = 120\n",
        "trunc_type='post'\n",
        "padding_type='post'\n",
        "oov_tok = \"<OOV>\"\n",
        "training_portion = .9\n",
        "\n",
        "\n",
        "with open(\"/tmp/reviews.json\", 'r') as f:\n",
        "  sentences = []\n",
        "  labels = []\n",
        "  for line in f:\n",
        "    item = json.loads(line)\n",
        "    sentences.append(item['reviewText'])\n",
        "    labels.append(int(item['overall'] >= 2.5))\n",
        "\n",
        "print(len(sentences))\n",
        "training_size = int(training_portion * len(sentences))\n",
        "training_sentences = sentences[0:training_size]\n",
        "testing_sentences = sentences[training_size:]\n",
        "training_labels = labels[0:training_size]\n",
        "testing_labels = labels[training_size:]\n",
        "\n",
        "tokenizer = Tokenizer(oov_token=oov_tok)\n",
        "tokenizer.fit_on_texts(training_sentences)\n",
        "\n",
        "word_index = tokenizer.word_index\n",
        "vocab_size=len(word_index)\n",
        "print(vocab_size)\n",
        "\n",
        "training_sequences = tokenizer.texts_to_sequences(training_sentences)\n",
        "training_padded = pad_sequences(training_sequences, maxlen=max_length, padding=padding_type, truncating=trunc_type)\n",
        "\n",
        "testing_sequences = tokenizer.texts_to_sequences(testing_sentences)\n",
        "testing_padded = pad_sequences(testing_sequences, maxlen=max_length, padding=padding_type, truncating=trunc_type)\n",
        "\n",
        "# Note this is the 100 dimension version of GloVe from Stanford\n",
        "# I unzipped and hosted it on my site to make this notebook easier\n",
        "!wget --no-check-certificate \\\n",
        "    https://storage.googleapis.com/laurencemoroney-blog.appspot.com/glove.6B.100d.txt \\\n",
        "    -O /tmp/glove.6B.100d.txt\n",
        "embeddings_index = {};\n",
        "with open('/tmp/glove.6B.100d.txt') as f:\n",
        "    for line in f:\n",
        "        values = line.split();\n",
        "        word = values[0];\n",
        "        coefs = np.asarray(values[1:], dtype='float32');\n",
        "        embeddings_index[word] = coefs;\n",
        "\n",
        "embeddings_matrix = np.zeros((vocab_size+1, embedding_dim));\n",
        "for word, i in word_index.items():\n",
        "    embedding_vector = embeddings_index.get(word);\n",
        "    if embedding_vector is not None:\n",
        "        embeddings_matrix[i] = embedding_vector;\n",
        "\n"
      ],
      "execution_count": 1,
      "outputs": [
        {
          "output_type": "stream",
          "text": [
            "--2020-04-03 11:24:35--  https://raw.githubusercontent.com/KeithGalli/sklearn/master/data/sentiment/Books_small_10000.json\n",
            "Resolving raw.githubusercontent.com (raw.githubusercontent.com)... 151.101.0.133, 151.101.64.133, 151.101.128.133, ...\n",
            "Connecting to raw.githubusercontent.com (raw.githubusercontent.com)|151.101.0.133|:443... connected.\n",
            "HTTP request sent, awaiting response... 200 OK\n",
            "Length: 8063542 (7.7M) [text/plain]\n",
            "Saving to: ‘/tmp/reviews.json’\n",
            "\n",
            "/tmp/reviews.json   100%[===================>]   7.69M  27.8MB/s    in 0.3s    \n",
            "\n",
            "2020-04-03 11:24:38 (27.8 MB/s) - ‘/tmp/reviews.json’ saved [8063542/8063542]\n",
            "\n",
            "10000\n",
            "32581\n",
            "--2020-04-03 11:24:42--  https://storage.googleapis.com/laurencemoroney-blog.appspot.com/glove.6B.100d.txt\n",
            "Resolving storage.googleapis.com (storage.googleapis.com)... 108.177.97.128, 2404:6800:4008:c01::80\n",
            "Connecting to storage.googleapis.com (storage.googleapis.com)|108.177.97.128|:443... connected.\n",
            "HTTP request sent, awaiting response... 200 OK\n",
            "Length: 347116733 (331M) [text/plain]\n",
            "Saving to: ‘/tmp/glove.6B.100d.txt’\n",
            "\n",
            "/tmp/glove.6B.100d. 100%[===================>] 331.04M  82.8MB/s    in 4.0s    \n",
            "\n",
            "2020-04-03 11:24:46 (82.8 MB/s) - ‘/tmp/glove.6B.100d.txt’ saved [347116733/347116733]\n",
            "\n",
            "Model: \"sequential\"\n",
            "_________________________________________________________________\n",
            "Layer (type)                 Output Shape              Param #   \n",
            "=================================================================\n",
            "embedding (Embedding)        (None, 120, 100)          3258200   \n",
            "_________________________________________________________________\n",
            "dropout (Dropout)            (None, 120, 100)          0         \n",
            "_________________________________________________________________\n",
            "bidirectional (Bidirectional (None, 64)                34048     \n",
            "_________________________________________________________________\n",
            "dense (Dense)                (None, 24)                1560      \n",
            "_________________________________________________________________\n",
            "dense_1 (Dense)              (None, 1)                 25        \n",
            "=================================================================\n",
            "Total params: 3,293,833\n",
            "Trainable params: 35,633\n",
            "Non-trainable params: 3,258,200\n",
            "_________________________________________________________________\n"
          ],
          "name": "stdout"
        }
      ]
    },
    {
      "cell_type": "code",
      "metadata": {
        "id": "naym6L4y6iih",
        "colab_type": "code",
        "colab": {
          "base_uri": "https://localhost:8080/",
          "height": 399
        },
        "outputId": "95b546e7-876c-4eb8-e2ea-e324679f8b9f"
      },
      "source": [
        "model = tf.keras.Sequential([\n",
        "    tf.keras.layers.Embedding(vocab_size+1, embedding_dim, input_length=max_length, weights=[embeddings_matrix], trainable=False),\n",
        "    tf.keras.layers.Dropout(0.4),\n",
        "    tf.keras.layers.Conv1D(64, 5, activation='relu'),\n",
        "    tf.keras.layers.MaxPooling1D(pool_size=4),\n",
        "    tf.keras.layers.Bidirectional(tf.keras.layers.LSTM(32)),\n",
        "    tf.keras.layers.Dense(64, activation='relu'),\n",
        "    tf.keras.layers.Dense(1, activation='sigmoid')\n",
        "])\n",
        "model.compile(loss='binary_crossentropy',optimizer='adam',metrics=['accuracy'])\n",
        "model.summary()\n"
      ],
      "execution_count": 22,
      "outputs": [
        {
          "output_type": "stream",
          "text": [
            "Model: \"sequential_3\"\n",
            "_________________________________________________________________\n",
            "Layer (type)                 Output Shape              Param #   \n",
            "=================================================================\n",
            "embedding_3 (Embedding)      (None, 120, 100)          3258200   \n",
            "_________________________________________________________________\n",
            "dropout_3 (Dropout)          (None, 120, 100)          0         \n",
            "_________________________________________________________________\n",
            "conv1d_1 (Conv1D)            (None, 116, 64)           32064     \n",
            "_________________________________________________________________\n",
            "max_pooling1d_1 (MaxPooling1 (None, 29, 64)            0         \n",
            "_________________________________________________________________\n",
            "bidirectional_3 (Bidirection (None, 64)                24832     \n",
            "_________________________________________________________________\n",
            "dense_6 (Dense)              (None, 64)                4160      \n",
            "_________________________________________________________________\n",
            "dense_7 (Dense)              (None, 1)                 65        \n",
            "=================================================================\n",
            "Total params: 3,319,321\n",
            "Trainable params: 61,121\n",
            "Non-trainable params: 3,258,200\n",
            "_________________________________________________________________\n"
          ],
          "name": "stdout"
        }
      ]
    },
    {
      "cell_type": "code",
      "metadata": {
        "id": "nHPsu71tbVnc",
        "colab_type": "code",
        "colab": {
          "base_uri": "https://localhost:8080/",
          "height": 904
        },
        "outputId": "8b013efe-f34f-4d55-8b55-e56e532e0d44"
      },
      "source": [
        "num_epochs = 25\n",
        "training_padded = np.array(training_padded)\n",
        "training_labels = np.array(training_labels)\n",
        "testing_padded = np.array(testing_padded)\n",
        "testing_labels = np.array(testing_labels)\n",
        "history = model.fit(training_padded, training_labels, epochs=num_epochs, validation_data=(testing_padded, testing_labels), verbose=1)\n"
      ],
      "execution_count": 23,
      "outputs": [
        {
          "output_type": "stream",
          "text": [
            "Epoch 1/25\n",
            "282/282 [==============================] - 4s 13ms/step - loss: 0.2457 - accuracy: 0.9321 - val_loss: 0.2270 - val_accuracy: 0.9420\n",
            "Epoch 2/25\n",
            "282/282 [==============================] - 3s 10ms/step - loss: 0.2289 - accuracy: 0.9349 - val_loss: 0.2249 - val_accuracy: 0.9420\n",
            "Epoch 3/25\n",
            "282/282 [==============================] - 3s 10ms/step - loss: 0.2161 - accuracy: 0.9349 - val_loss: 0.2194 - val_accuracy: 0.9420\n",
            "Epoch 4/25\n",
            "282/282 [==============================] - 3s 10ms/step - loss: 0.2016 - accuracy: 0.9348 - val_loss: 0.2045 - val_accuracy: 0.9420\n",
            "Epoch 5/25\n",
            "282/282 [==============================] - 3s 10ms/step - loss: 0.1851 - accuracy: 0.9351 - val_loss: 0.2096 - val_accuracy: 0.9420\n",
            "Epoch 6/25\n",
            "282/282 [==============================] - 3s 10ms/step - loss: 0.1727 - accuracy: 0.9374 - val_loss: 0.2006 - val_accuracy: 0.9410\n",
            "Epoch 7/25\n",
            "282/282 [==============================] - 3s 10ms/step - loss: 0.1609 - accuracy: 0.9404 - val_loss: 0.2042 - val_accuracy: 0.9410\n",
            "Epoch 8/25\n",
            "282/282 [==============================] - 3s 10ms/step - loss: 0.1515 - accuracy: 0.9416 - val_loss: 0.1962 - val_accuracy: 0.9390\n",
            "Epoch 9/25\n",
            "282/282 [==============================] - 3s 10ms/step - loss: 0.1416 - accuracy: 0.9454 - val_loss: 0.2088 - val_accuracy: 0.9430\n",
            "Epoch 10/25\n",
            "282/282 [==============================] - 3s 10ms/step - loss: 0.1323 - accuracy: 0.9517 - val_loss: 0.2271 - val_accuracy: 0.9450\n",
            "Epoch 11/25\n",
            "282/282 [==============================] - 3s 10ms/step - loss: 0.1202 - accuracy: 0.9539 - val_loss: 0.2330 - val_accuracy: 0.9430\n",
            "Epoch 12/25\n",
            "282/282 [==============================] - 3s 10ms/step - loss: 0.1069 - accuracy: 0.9577 - val_loss: 0.3019 - val_accuracy: 0.9410\n",
            "Epoch 13/25\n",
            "282/282 [==============================] - 3s 11ms/step - loss: 0.1043 - accuracy: 0.9573 - val_loss: 0.2775 - val_accuracy: 0.9400\n",
            "Epoch 14/25\n",
            "282/282 [==============================] - 3s 10ms/step - loss: 0.1001 - accuracy: 0.9599 - val_loss: 0.2614 - val_accuracy: 0.9380\n",
            "Epoch 15/25\n",
            "282/282 [==============================] - 3s 10ms/step - loss: 0.0905 - accuracy: 0.9658 - val_loss: 0.2375 - val_accuracy: 0.9150\n",
            "Epoch 16/25\n",
            "282/282 [==============================] - 3s 10ms/step - loss: 0.0875 - accuracy: 0.9662 - val_loss: 0.2366 - val_accuracy: 0.9330\n",
            "Epoch 17/25\n",
            "282/282 [==============================] - 3s 11ms/step - loss: 0.0827 - accuracy: 0.9671 - val_loss: 0.2403 - val_accuracy: 0.9360\n",
            "Epoch 18/25\n",
            "282/282 [==============================] - 3s 9ms/step - loss: 0.0760 - accuracy: 0.9690 - val_loss: 0.2702 - val_accuracy: 0.9400\n",
            "Epoch 19/25\n",
            "282/282 [==============================] - 3s 10ms/step - loss: 0.0767 - accuracy: 0.9702 - val_loss: 0.3327 - val_accuracy: 0.9410\n",
            "Epoch 20/25\n",
            "282/282 [==============================] - 3s 10ms/step - loss: 0.0643 - accuracy: 0.9756 - val_loss: 0.2818 - val_accuracy: 0.9330\n",
            "Epoch 21/25\n",
            "282/282 [==============================] - 3s 10ms/step - loss: 0.0687 - accuracy: 0.9743 - val_loss: 0.3139 - val_accuracy: 0.9400\n",
            "Epoch 22/25\n",
            "282/282 [==============================] - 3s 10ms/step - loss: 0.0623 - accuracy: 0.9760 - val_loss: 0.3708 - val_accuracy: 0.9410\n",
            "Epoch 23/25\n",
            "282/282 [==============================] - 3s 10ms/step - loss: 0.0623 - accuracy: 0.9770 - val_loss: 0.2802 - val_accuracy: 0.9310\n",
            "Epoch 24/25\n",
            "282/282 [==============================] - 3s 10ms/step - loss: 0.0577 - accuracy: 0.9791 - val_loss: 0.3077 - val_accuracy: 0.9390\n",
            "Epoch 25/25\n",
            "282/282 [==============================] - 3s 10ms/step - loss: 0.0492 - accuracy: 0.9819 - val_loss: 0.3576 - val_accuracy: 0.9400\n"
          ],
          "name": "stdout"
        }
      ]
    },
    {
      "cell_type": "code",
      "metadata": {
        "colab_type": "code",
        "id": "g9DC6dmLF8DC",
        "colab": {
          "base_uri": "https://localhost:8080/",
          "height": 541
        },
        "outputId": "4121329e-15c6-46ae-e478-4fac71d2dae6"
      },
      "source": [
        "import matplotlib.pyplot as plt\n",
        "\n",
        "\n",
        "def plot_graphs(history, string):\n",
        "  plt.plot(history.history[string])\n",
        "  plt.plot(history.history['val_'+string])\n",
        "  plt.xlabel(\"Epochs\")\n",
        "  plt.ylabel(string)\n",
        "  plt.legend([string, 'val_'+string])\n",
        "  plt.show()\n",
        "\n",
        "plot_graphs(history, 'accuracy')\n",
        "plot_graphs(history, 'loss')"
      ],
      "execution_count": 24,
      "outputs": [
        {
          "output_type": "display_data",
          "data": {
            "image/png": "[encoded data removed]",
            "text/plain": [
              "<Figure size 432x288 with 1 Axes>"
            ]
          },
          "metadata": {
            "tags": []
          }
        },
        {
          "output_type": "display_data",
          "data": {
            "image/png": "[encoded data removed]",
            "text/plain": [
              "<Figure size 432x288 with 1 Axes>"
            ]
          },
          "metadata": {
            "tags": []
          }
        }
      ]
    },
    {
      "cell_type": "code",
      "metadata": {
        "colab_type": "code",
        "id": "7ZEZIUppGhdi",
        "colab": {}
      },
      "source": [
        "model.save(\"amazon_reviews_sentiment.h5\")"
      ],
      "execution_count": 0,
      "outputs": []
    },
    {
      "cell_type": "code",
      "metadata": {
        "id": "NddLX5s8fGvj",
        "colab_type": "code",
        "colab": {
          "base_uri": "https://localhost:8080/",
          "height": 69
        },
        "outputId": "e7899c13-03c4-430e-c6b2-ff73fafe7052"
      },
      "source": [
        "new_reviews = [\"This book was very easy to read. I really enjoyed it.\", \"This book is too trivial and boring\",\"I am sure this book is chalk full of good info! However it is certainly not a beginners book to investing. If you're like me and have no idea what the definition of terms like 'net tangible assets', and 'sub working capital' are it may be best to find a true beginners book as a prequel to this one. Lots of good info I cant yet understand.\"]\n",
        "new_reviews_numeric = tokenizer.texts_to_sequences(new_reviews)\n",
        "new_reviews_padded = pad_sequences(new_reviews_numeric, maxlen=max_length, padding=padding_type, truncating=trunc_type)\n",
        "predictions = model.predict(new_reviews_padded);\n",
        "print(predictions)"
      ],
      "execution_count": 27,
      "outputs": [
        {
          "output_type": "stream",
          "text": [
            "[[0.9975526 ]\n",
            " [0.00436827]\n",
            " [0.99175984]]\n"
          ],
          "name": "stdout"
        }
      ]
    }
  ]
}